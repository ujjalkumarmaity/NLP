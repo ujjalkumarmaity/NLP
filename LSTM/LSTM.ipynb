{
 "cells": [
  {
   "cell_type": "markdown",
   "id": "310a4fa5",
   "metadata": {},
   "source": [
    "---\n",
    "title: \"LSTM (Long Short-Term Memory)\"\n",
    "date: \"5/30/2023\"\n",
    "categories:\n",
    "  - LSTM\n",
    "---"
   ]
  },
  {
   "cell_type": "markdown",
   "id": "ec48e701",
   "metadata": {},
   "source": [
    "## LSTM (Long Short-Term Memory)\n",
    "- LSTM is a type of RNN architecture that is widely used for sequnce modeling task \n",
    "- LSTM overcome RNN limitation(vanising gradient) by introducing a memory cell and three gating mechanisms.\n",
    "- Memory cell in LSTM allows to store and access information over long sequence\n",
    "- LSTMs use a series of gates which control how the information in a sequence of data comes into, is stored in and leaves the network. they are -\n",
    "    - forgot gate\n",
    "    - input gate\n",
    "    - output gate"
   ]
  },
  {
   "cell_type": "markdown",
   "id": "8c12d074",
   "metadata": {},
   "source": [
    "### Application\n",
    "- **NLP task**- named entity recognition, sentiment analysis, machine translation etc.\n",
    "- **Speech Recognition** - automatic speech recognition, speech-to-text conversion etc.\n",
    "- **Time Series Analysis and Forecasting** - stock market prediction, weather forecasting etc."
   ]
  },
  {
   "cell_type": "markdown",
   "id": "ee0c93db",
   "metadata": {},
   "source": [
    "### Architecture"
   ]
  },
  {
   "cell_type": "markdown",
   "id": "43d1c539",
   "metadata": {},
   "source": [
    "#### Forget gate layer\n",
    "First step in the process is Forgot gate. This gate telling  the LSTM how much information keep from previous state. Output of this gate is between 0 and 1. Output of this forgot gate multiply with previous LSTM output.\n",
    "<img height = 300 width=600 src='http://colah.github.io/posts/2015-08-Understanding-LSTMs/img/LSTM3-focus-f.png'><br>\n",
    "output of forgot gate is 0 implies `->` Forget all previous memory<br>\n",
    "output of forgot gate is 1 implies `->` Keep all previous memory<br>\n",
    "output of forgot gate is 0.5 implies `->` Keep some of previous memory<br>"
   ]
  },
  {
   "cell_type": "markdown",
   "id": "12101afc",
   "metadata": {},
   "source": [
    "#### Input gate layer\n",
    "Goal of this step is how much information take from new memory. This sigmoid layer is call input gate decides which values we’ll update.\n",
    "\n",
    "output of forgot gate is 0 implies `->` Didn't take anything from generated memory<br>\n",
    "output of forgot gate is 1 implies `->` Take anything from generated memory<br>\n",
    "output of forgot gate is 0.5 implies `->` Take partially from generated memory<br>\n",
    "<img height = 300 width=600 src='http://colah.github.io/posts/2015-08-Understanding-LSTMs/img/LSTM3-focus-i.png'>\n",
    "\n",
    "The new **memory network** is a tanh activated neural network which has learned how to combine the previous hidden state and new input data to generate a ‘new memory update vector’. This vector essentially contains information from the new input data given the context from the previous hidden state\n",
    "\n",
    "<img height = 300 width=600 src='http://colah.github.io/posts/2015-08-Understanding-LSTMs/img/LSTM3-focus-C.png'>\n"
   ]
  },
  {
   "cell_type": "markdown",
   "id": "c4907add",
   "metadata": {},
   "source": [
    "#### Output Gate\n",
    "The output gate, deciding the new hidden state.\n",
    " - First, we run a sigmoid layer which decides what parts of the cell state we’re going to output.\n",
    " - Then, we put the cell state through tanh and multiply it by the output of the sigmoid gate, so that we only output the parts we decided to.\n",
    "\n",
    "\n",
    "<img height = 300 width=600 src='http://colah.github.io/posts/2015-08-Understanding-LSTMs/img/LSTM3-focus-o.png'>\n"
   ]
  },
  {
   "cell_type": "markdown",
   "id": "d03ba70a",
   "metadata": {},
   "source": [
    "### Drawbacks LSTM\n",
    "- Computational Complexity\n",
    "- Training Time\n",
    "- Difficulty in Hyperparameter Tuning"
   ]
  },
  {
   "cell_type": "markdown",
   "id": "1bf74324",
   "metadata": {},
   "source": [
    "### Reference\n",
    "- http://colah.github.io/posts/2015-08-Understanding-LSTMs/\n"
   ]
  },
  {
   "cell_type": "code",
   "execution_count": null,
   "id": "75c03a7d",
   "metadata": {},
   "outputs": [],
   "source": []
  }
 ],
 "metadata": {
  "kernelspec": {
   "display_name": "Python 3 (ipykernel)",
   "language": "python",
   "name": "python3"
  },
  "language_info": {
   "codemirror_mode": {
    "name": "ipython",
    "version": 3
   },
   "file_extension": ".py",
   "mimetype": "text/x-python",
   "name": "python",
   "nbconvert_exporter": "python",
   "pygments_lexer": "ipython3",
   "version": "3.10.9"
  }
 },
 "nbformat": 4,
 "nbformat_minor": 5
}
