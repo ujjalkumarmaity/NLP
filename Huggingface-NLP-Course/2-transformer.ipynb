{
  "nbformat": 4,
  "nbformat_minor": 0,
  "metadata": {
    "colab": {
      "provenance": [],
      "authorship_tag": "ABX9TyOW7pZ7AJdOqsm8kniMhdQH",
      "include_colab_link": true
    },
    "kernelspec": {
      "name": "python3",
      "display_name": "Python 3"
    },
    "language_info": {
      "name": "python"
    }
  },
  "cells": [
    {
      "cell_type": "markdown",
      "metadata": {
        "id": "view-in-github",
        "colab_type": "text"
      },
      "source": [
        "<a href=\"https://colab.research.google.com/github/ujjalkumarmaity/NLP/blob/main/Huggingface-NLP-Course/2-transformer.ipynb\" target=\"_parent\"><img src=\"https://colab.research.google.com/assets/colab-badge.svg\" alt=\"Open In Colab\"/></a>"
      ]
    },
    {
      "cell_type": "markdown",
      "source": [
        "### pipeline"
      ],
      "metadata": {
        "id": "lz01UOWuWG3m"
      }
    },
    {
      "cell_type": "markdown",
      "source": [
        "pipeline groups together three steps: preprocessing, passing the inputs through the model, and postprocessing"
      ],
      "metadata": {
        "id": "-RUIdUD1XX1l"
      }
    },
    {
      "cell_type": "markdown",
      "source": [
        "list of task - `['audio-classification', 'automatic-speech-recognition', 'conversational', 'depth-estimation', 'document-question-answering', 'feature-extraction', 'fill-mask', 'image-classification', 'image-segmentation', 'image-to-image', 'image-to-text', 'mask-generation', 'ner', 'object-detection', 'question-answering', 'sentiment-analysis', 'summarization', 'table-question-answering', 'text-classification', 'text-generation', 'text-to-audio', 'text-to-speech', 'text2text-generation', 'token-classification', 'translation', 'video-classification', 'visual-question-answering', 'vqa', 'zero-shot-audio-classification', 'zero-shot-classification', 'zero-shot-image-classification', 'zero-shot-object-detection', 'translation_XX_to_YY']`"
      ],
      "metadata": {
        "id": "3vxKinH-X4f7"
      }
    },
    {
      "cell_type": "code",
      "source": [
        "from transformers import pipeline\n",
        "# sentiment-analysis will return a [`TextClassificationPipeline`]\n",
        "classifier = pipeline(\"sentiment-analysis\",model=\"distilbert-base-uncased-finetuned-sst-2-english\")\n",
        "classifier(\n",
        "    [\n",
        "        \"I've been waiting for a HuggingFace course my whole life.\",\n",
        "        \"I hate this so much!\",\n",
        "    ]\n",
        ")\n"
      ],
      "metadata": {
        "colab": {
          "base_uri": "https://localhost:8080/"
        },
        "id": "LTTHEwd2Hrun",
        "outputId": "b9f0a4c5-8cc8-4717-f221-53d4c6647bc3"
      },
      "execution_count": 11,
      "outputs": [
        {
          "output_type": "execute_result",
          "data": {
            "text/plain": [
              "[{'label': 'POSITIVE', 'score': 0.9598048329353333},\n",
              " {'label': 'NEGATIVE', 'score': 0.9994558691978455}]"
            ]
          },
          "metadata": {},
          "execution_count": 11
        }
      ]
    },
    {
      "cell_type": "code",
      "source": [
        "classifier"
      ],
      "metadata": {
        "colab": {
          "base_uri": "https://localhost:8080/"
        },
        "id": "wUtwjp3KYqyk",
        "outputId": "774b4118-83c0-454c-9155-dc42afaef60e"
      },
      "execution_count": 8,
      "outputs": [
        {
          "output_type": "execute_result",
          "data": {
            "text/plain": [
              "<transformers.pipelines.text_classification.TextClassificationPipeline at 0x7b23abacd660>"
            ]
          },
          "metadata": {},
          "execution_count": 8
        }
      ]
    },
    {
      "cell_type": "code",
      "source": [
        "from transformers import TextClassificationPipeline\n",
        "TextClassificationPipeline"
      ],
      "metadata": {
        "colab": {
          "base_uri": "https://localhost:8080/"
        },
        "id": "T7VQNgHlYqG0",
        "outputId": "48908711-001b-4a04-a9e2-819d4d46df1c"
      },
      "execution_count": 12,
      "outputs": [
        {
          "output_type": "execute_result",
          "data": {
            "text/plain": [
              "transformers.pipelines.text_classification.TextClassificationPipeline"
            ]
          },
          "metadata": {},
          "execution_count": 12
        }
      ]
    },
    {
      "cell_type": "markdown",
      "source": [
        "### Model"
      ],
      "metadata": {
        "id": "7Ir9hLoWWOD8"
      }
    },
    {
      "cell_type": "code",
      "source": [
        "# load any model. it auutomatically detect model configration\n",
        "from transformers import AutoModel\n",
        "model = AutoModel.from_pretrained('distilgpt2')"
      ],
      "metadata": {
        "id": "YUtIn2uwJ7vL"
      },
      "execution_count": null,
      "outputs": []
    },
    {
      "cell_type": "code",
      "source": [
        "# creating a BERT model\n",
        "# this model needs to be trained first.\n",
        "from transformers import BertConfig,BertModel\n",
        "from pprint import pprint\n",
        "pprint(BertConfig())\n",
        "config = BertConfig()\n",
        "bert_model = BertModel(config)"
      ],
      "metadata": {
        "colab": {
          "base_uri": "https://localhost:8080/"
        },
        "id": "Ygvm5jnyNKsR",
        "outputId": "6baf0c4d-3095-4c1b-8a95-3c349cb114fc"
      },
      "execution_count": null,
      "outputs": [
        {
          "output_type": "stream",
          "name": "stdout",
          "text": [
            "BertConfig {\n",
            "  \"attention_probs_dropout_prob\": 0.1,\n",
            "  \"classifier_dropout\": null,\n",
            "  \"hidden_act\": \"gelu\",\n",
            "  \"hidden_dropout_prob\": 0.1,\n",
            "  \"hidden_size\": 768,\n",
            "  \"initializer_range\": 0.02,\n",
            "  \"intermediate_size\": 3072,\n",
            "  \"layer_norm_eps\": 1e-12,\n",
            "  \"max_position_embeddings\": 512,\n",
            "  \"model_type\": \"bert\",\n",
            "  \"num_attention_heads\": 12,\n",
            "  \"num_hidden_layers\": 12,\n",
            "  \"pad_token_id\": 0,\n",
            "  \"position_embedding_type\": \"absolute\",\n",
            "  \"transformers_version\": \"4.35.0\",\n",
            "  \"type_vocab_size\": 2,\n",
            "  \"use_cache\": true,\n",
            "  \"vocab_size\": 30522\n",
            "}\n",
            "\n"
          ]
        }
      ]
    },
    {
      "cell_type": "code",
      "source": [
        "model = BertModel.from_pretrained('bert-base-cased')\n",
        "model"
      ],
      "metadata": {
        "colab": {
          "base_uri": "https://localhost:8080/"
        },
        "id": "-0H9WUvDNr0i",
        "outputId": "7d6e4fad-9294-49f3-e7fa-3e28acf4194c"
      },
      "execution_count": null,
      "outputs": [
        {
          "output_type": "execute_result",
          "data": {
            "text/plain": [
              "BertModel(\n",
              "  (embeddings): BertEmbeddings(\n",
              "    (word_embeddings): Embedding(28996, 768, padding_idx=0)\n",
              "    (position_embeddings): Embedding(512, 768)\n",
              "    (token_type_embeddings): Embedding(2, 768)\n",
              "    (LayerNorm): LayerNorm((768,), eps=1e-12, elementwise_affine=True)\n",
              "    (dropout): Dropout(p=0.1, inplace=False)\n",
              "  )\n",
              "  (encoder): BertEncoder(\n",
              "    (layer): ModuleList(\n",
              "      (0-11): 12 x BertLayer(\n",
              "        (attention): BertAttention(\n",
              "          (self): BertSelfAttention(\n",
              "            (query): Linear(in_features=768, out_features=768, bias=True)\n",
              "            (key): Linear(in_features=768, out_features=768, bias=True)\n",
              "            (value): Linear(in_features=768, out_features=768, bias=True)\n",
              "            (dropout): Dropout(p=0.1, inplace=False)\n",
              "          )\n",
              "          (output): BertSelfOutput(\n",
              "            (dense): Linear(in_features=768, out_features=768, bias=True)\n",
              "            (LayerNorm): LayerNorm((768,), eps=1e-12, elementwise_affine=True)\n",
              "            (dropout): Dropout(p=0.1, inplace=False)\n",
              "          )\n",
              "        )\n",
              "        (intermediate): BertIntermediate(\n",
              "          (dense): Linear(in_features=768, out_features=3072, bias=True)\n",
              "          (intermediate_act_fn): GELUActivation()\n",
              "        )\n",
              "        (output): BertOutput(\n",
              "          (dense): Linear(in_features=3072, out_features=768, bias=True)\n",
              "          (LayerNorm): LayerNorm((768,), eps=1e-12, elementwise_affine=True)\n",
              "          (dropout): Dropout(p=0.1, inplace=False)\n",
              "        )\n",
              "      )\n",
              "    )\n",
              "  )\n",
              "  (pooler): BertPooler(\n",
              "    (dense): Linear(in_features=768, out_features=768, bias=True)\n",
              "    (activation): Tanh()\n",
              "  )\n",
              ")"
            ]
          },
          "metadata": {},
          "execution_count": 21
        }
      ]
    },
    {
      "cell_type": "markdown",
      "source": [
        "### Tokenizer\n",
        "\n",
        "\n"
      ],
      "metadata": {
        "id": "tzIL1fe3lzPg"
      }
    },
    {
      "cell_type": "markdown",
      "source": [
        "*   convert our text inputs to numerical data\n",
        "*   \"unknown” token, often represented as ”[UNK]”\n",
        "*   One way to reduce the amount of unknown tokens is to go one level deeper, using a character-based tokenizer.\n",
        "*    **Subword tokenization** algorithms rely on the principle that frequently used words should not be split into smaller subwords, but rare words should be decomposed into meaningful subwords\n",
        "\n",
        "<img src =\"https://huggingface.co/datasets/huggingface-course/documentation-images/resolve/main/en/chapter2/bpe_subword.svg\">\n",
        "\n",
        "\n",
        "* Other Tokenizer Algorithm\n",
        "    - Byte-level BPE, as used in GPT-2\n",
        "    - WordPiece, as used in BERT\n",
        "    - SentencePiece or Unigram, as used in several multilingual models\n",
        "\n"
      ],
      "metadata": {
        "id": "1R2oaJYZxZZp"
      }
    },
    {
      "cell_type": "code",
      "source": [
        "from transformers import BertTokenizer\n",
        "tokenizer = BertTokenizer.from_pretrained(\"bert-base-cased\")\n",
        "tokenizer([\"Using a Transformer network is simple\",\"using a transformer network is simple\"])"
      ],
      "metadata": {
        "colab": {
          "base_uri": "https://localhost:8080/"
        },
        "id": "uYNcxpx_NgBS",
        "outputId": "9fe0d6e4-9300-451f-ff54-2701a365bac7"
      },
      "execution_count": null,
      "outputs": [
        {
          "output_type": "execute_result",
          "data": {
            "text/plain": [
              "{'input_ids': [[101, 7993, 170, 13809, 23763, 2443, 1110, 3014, 102], [101, 1606, 170, 11303, 1200, 2443, 1110, 3014, 102]], 'token_type_ids': [[0, 0, 0, 0, 0, 0, 0, 0, 0], [0, 0, 0, 0, 0, 0, 0, 0, 0]], 'attention_mask': [[1, 1, 1, 1, 1, 1, 1, 1, 1], [1, 1, 1, 1, 1, 1, 1, 1, 1]]}"
            ]
          },
          "metadata": {},
          "execution_count": 32
        }
      ]
    },
    {
      "cell_type": "code",
      "source": [
        "from transformers import AutoTokenizer\n",
        "tokenizer = AutoTokenizer.from_pretrained(\"bert-base-cased\")\n",
        "tokenizer([\"Using a Transformer network is simple\",\"using a transformer network is simple\"])"
      ],
      "metadata": {
        "colab": {
          "base_uri": "https://localhost:8080/"
        },
        "id": "E-kVtIfSNhnq",
        "outputId": "e7479301-7f61-462d-add7-5fa722d53add"
      },
      "execution_count": null,
      "outputs": [
        {
          "output_type": "execute_result",
          "data": {
            "text/plain": [
              "{'input_ids': [[101, 7993, 170, 13809, 23763, 2443, 1110, 3014, 102], [101, 1606, 170, 11303, 1200, 2443, 1110, 3014, 102]], 'token_type_ids': [[0, 0, 0, 0, 0, 0, 0, 0, 0], [0, 0, 0, 0, 0, 0, 0, 0, 0]], 'attention_mask': [[1, 1, 1, 1, 1, 1, 1, 1, 1], [1, 1, 1, 1, 1, 1, 1, 1, 1]]}"
            ]
          },
          "metadata": {},
          "execution_count": 31
        }
      ]
    },
    {
      "cell_type": "markdown",
      "source": [
        "**Encoding**\n",
        "\n",
        "Translating text to numbers is known as encoding\n",
        "\n",
        "Encoding is done in a two-step process: the **tokenization**, followed by the **conversion to input IDs**.\n",
        "\n"
      ],
      "metadata": {
        "id": "iRCvRZ5ivGJd"
      }
    },
    {
      "cell_type": "code",
      "source": [
        "from transformers import AutoTokenizer\n",
        "tokenizer = AutoTokenizer.from_pretrained(\"bert-base-cased\")\n",
        "sequence = \"Using a Transformer network is simple\"\n",
        "token = tokenizer.tokenize(sequence)\n",
        "print(tokenizer.tokenize(sequence))\n",
        "print(tokenizer.convert_tokens_to_ids(token))"
      ],
      "metadata": {
        "colab": {
          "base_uri": "https://localhost:8080/"
        },
        "id": "I5TP_KaxshBM",
        "outputId": "ab3788d5-a6e3-459a-ed66-2d3ed11003d2"
      },
      "execution_count": null,
      "outputs": [
        {
          "output_type": "stream",
          "name": "stdout",
          "text": [
            "['Using', 'a', 'Trans', '##former', 'network', 'is', 'simple']\n",
            "[7993, 170, 13809, 23763, 2443, 1110, 3014]\n"
          ]
        }
      ]
    },
    {
      "cell_type": "markdown",
      "source": [
        "**Decoding**\n",
        "\n",
        "Decoding is going the other way around: **from vocabulary indices, we want to get a string**. This can be done with the decode()"
      ],
      "metadata": {
        "id": "6FwREQnAwnOF"
      }
    },
    {
      "cell_type": "code",
      "source": [
        "print(tokenizer.decode([7993, 170, 11303, 1200, 2443, 1110, 3014]))"
      ],
      "metadata": {
        "colab": {
          "base_uri": "https://localhost:8080/"
        },
        "id": "USTYqcHovyjK",
        "outputId": "d027a4a2-f8a0-4779-bb1e-1fe68ce8076d"
      },
      "execution_count": null,
      "outputs": [
        {
          "output_type": "stream",
          "name": "stdout",
          "text": [
            "Using a transformer network is simple\n"
          ]
        }
      ]
    },
    {
      "cell_type": "markdown",
      "source": [
        "### Handling multiple sequences\n"
      ],
      "metadata": {
        "id": "p0AzSnRCxQMP"
      }
    },
    {
      "cell_type": "markdown",
      "source": [
        "- How do we handle multiple sequences?\n",
        "- How do we handle multiple sequences of different lengths?\n",
        "- Are vocabulary indices the only inputs that allow a model to work well?\n",
        "- Is there such a thing as too long a sequence?"
      ],
      "metadata": {
        "id": "nQCactclcPDE"
      }
    },
    {
      "cell_type": "code",
      "source": [
        "#Models expect a batch of inputs\n",
        "import torch\n",
        "from transformers import AutoTokenizer, AutoModelForSequenceClassification\n",
        "checkpoint = \"distilbert-base-uncased-finetuned-sst-2-english\"\n",
        "tokenizer = AutoTokenizer.from_pretrained(checkpoint)\n",
        "model = AutoModelForSequenceClassification.from_pretrained(checkpoint)\n",
        "\n",
        "sequence = \"I've been waiting for a HuggingFace course my whole life.\"\n",
        "\n",
        "token = tokenizer.tokenize(sequence)\n",
        "ids = tokenizer.convert_tokens_to_ids(token)\n",
        "model(torch.tensor([ids])) # batch. instead of passing ids, we passing list of ids, because models expect multiple sentences by default"
      ],
      "metadata": {
        "id": "C_Nqsg5jw0Kp",
        "colab": {
          "base_uri": "https://localhost:8080/"
        },
        "outputId": "418d77df-ac92-46a2-8a38-a6cd5b9e1c09"
      },
      "execution_count": null,
      "outputs": [
        {
          "output_type": "execute_result",
          "data": {
            "text/plain": [
              "SequenceClassifierOutput(loss=None, logits=tensor([[-2.7276,  2.8789]], grad_fn=<AddmmBackward0>), hidden_states=None, attentions=None)"
            ]
          },
          "metadata": {},
          "execution_count": 7
        }
      ]
    },
    {
      "cell_type": "markdown",
      "source": [
        "**Padding the inputs**\n",
        "\n",
        "Is input sequence diferent then we add padding for same sequence length"
      ],
      "metadata": {
        "id": "dMweKv0_uRaU"
      }
    },
    {
      "cell_type": "code",
      "source": [
        "print('pad_token_id',tokenizer.pad_token_id)\n",
        "ids = [[100,200,200,200],[100,200,tokenizer.pad_token_id,tokenizer.pad_token_id]]\n",
        "print(ids)\n",
        "model(torch.tensor(ids))"
      ],
      "metadata": {
        "colab": {
          "base_uri": "https://localhost:8080/"
        },
        "id": "kOSX8rZAkk1d",
        "outputId": "8c742e38-57e1-4bb3-99f8-63c27c3e1ad6"
      },
      "execution_count": null,
      "outputs": [
        {
          "output_type": "stream",
          "name": "stderr",
          "text": [
            "We strongly recommend passing in an `attention_mask` since your input_ids may be padded. See https://huggingface.co/docs/transformers/troubleshooting#incorrect-output-when-padding-tokens-arent-masked.\n"
          ]
        },
        {
          "output_type": "stream",
          "name": "stdout",
          "text": [
            "pad_token_id 0\n",
            "[[100, 200, 200, 200], [100, 200, 0, 0]]\n"
          ]
        },
        {
          "output_type": "execute_result",
          "data": {
            "text/plain": [
              "SequenceClassifierOutput(loss=None, logits=tensor([[ 0.9290, -0.7948],\n",
              "        [ 0.6497, -0.5397]], grad_fn=<AddmmBackward0>), hidden_states=None, attentions=None)"
            ]
          },
          "metadata": {},
          "execution_count": 11
        }
      ]
    },
    {
      "cell_type": "markdown",
      "source": [
        "**Attention masks**\n",
        "\n",
        "attention layers that contextualize each token\n",
        "\n",
        "Attention masks are tensors with the exact **same shape as the input IDs tensor**, filled with 0s and 1s: **1s indicate the corresponding tokens should be attended** to, and **0s indicate the corresponding tokens should not be attended**"
      ],
      "metadata": {
        "id": "cSRv6fPyvvAG"
      }
    },
    {
      "cell_type": "code",
      "source": [
        "from transformers import AutoTokenizer\n",
        "from pprint import pprint\n",
        "checkpoint = \"bert-base-cased\"\n",
        "tokenizer = AutoTokenizer.from_pretrained(checkpoint)\n",
        "pprint(tokenizer(['attention layers that contextualize each token','large language model'], max_length=10, padding=\"max_length\")) # 0 ignore"
      ],
      "metadata": {
        "colab": {
          "base_uri": "https://localhost:8080/"
        },
        "id": "3JD0qb2-uoPT",
        "outputId": "aad1ff57-8a68-4715-c727-3ec82c5214f5"
      },
      "execution_count": null,
      "outputs": [
        {
          "output_type": "stream",
          "name": "stdout",
          "text": [
            "{'attention_mask': [[1, 1, 1, 1, 1, 1, 1, 1, 1, 1],\n",
            "                    [1, 1, 1, 1, 1, 0, 0, 0, 0, 0]],\n",
            " 'input_ids': [[101, 2209, 8798, 1115, 5618, 4746, 3708, 1296, 22559, 102],\n",
            "               [101, 1415, 1846, 2235, 102, 0, 0, 0, 0, 0]],\n",
            " 'token_type_ids': [[0, 0, 0, 0, 0, 0, 0, 0, 0, 0],\n",
            "                    [0, 0, 0, 0, 0, 0, 0, 0, 0, 0]]}\n"
          ]
        }
      ]
    },
    {
      "cell_type": "markdown",
      "source": [
        "**Longer sequences**\n",
        "- In transformer model limit to the lengths of the sequences we can pass the models. Most models handle sequences of up to 512 or 1024 tokens\n",
        "- two solutions to this problem -\n",
        "    - Use a model with a longer supported sequence length (https://huggingface.co/docs/transformers/model_doc/longformer)\n",
        "    - Truncate your sequences"
      ],
      "metadata": {
        "id": "7veUec0Jx7zi"
      }
    },
    {
      "cell_type": "code",
      "source": [
        "# Truncate your sequences\n",
        "checkpoint = \"bert-base-cased\"\n",
        "tokenizer = AutoTokenizer.from_pretrained(checkpoint)\n",
        "pprint(tokenizer(['attention layers that contextualize each token','large language model'], max_length=5, padding=\"max_length\",truncation=True))"
      ],
      "metadata": {
        "colab": {
          "base_uri": "https://localhost:8080/"
        },
        "id": "Yd323gp0utMZ",
        "outputId": "2ff31285-9cbb-42d7-968c-febaae507d8f"
      },
      "execution_count": null,
      "outputs": [
        {
          "output_type": "stream",
          "name": "stdout",
          "text": [
            "{'attention_mask': [[1, 1, 1, 1, 1], [1, 1, 1, 1, 1]],\n",
            " 'input_ids': [[101, 2209, 8798, 1115, 102], [101, 1415, 1846, 2235, 102]],\n",
            " 'token_type_ids': [[0, 0, 0, 0, 0], [0, 0, 0, 0, 0]]}\n"
          ]
        }
      ]
    },
    {
      "cell_type": "markdown",
      "source": [
        "**Special tokens**\n",
        "\n",
        "- tokenizer added the special word [CLS] at the beginning and the special word [SEP] at the end."
      ],
      "metadata": {
        "id": "i2qAndqr0tN-"
      }
    },
    {
      "cell_type": "code",
      "source": [
        "# Truncate your sequences\n",
        "checkpoint = \"bert-base-cased\"\n",
        "tokenizer = AutoTokenizer.from_pretrained(checkpoint)\n",
        "seq = 'attention layers that contextualize each token'\n",
        "tok = tokenizer(seq)\n",
        "print(tokenizer.convert_tokens_to_ids(tokenizer.tokenize(seq)))\n",
        "print('input_ids',tok['input_ids'])\n",
        "\n",
        "#\n",
        "tokenizer.decode(tok['input_ids'])"
      ],
      "metadata": {
        "colab": {
          "base_uri": "https://localhost:8080/",
          "height": 70
        },
        "id": "TJ5KKxMmwqBd",
        "outputId": "9005a087-8451-44f9-d7b6-c9e091955e9f"
      },
      "execution_count": null,
      "outputs": [
        {
          "output_type": "stream",
          "name": "stdout",
          "text": [
            "[2209, 8798, 1115, 5618, 4746, 3708, 1296, 22559]\n",
            "input_ids [101, 2209, 8798, 1115, 5618, 4746, 3708, 1296, 22559, 102]\n"
          ]
        },
        {
          "output_type": "execute_result",
          "data": {
            "text/plain": [
              "'[CLS] attention layers that contextualize each token [SEP]'"
            ],
            "application/vnd.google.colaboratory.intrinsic+json": {
              "type": "string"
            }
          },
          "metadata": {},
          "execution_count": 25
        }
      ]
    },
    {
      "cell_type": "code",
      "source": [],
      "metadata": {
        "id": "gcMOTVMTzxQR"
      },
      "execution_count": null,
      "outputs": []
    }
  ]
}