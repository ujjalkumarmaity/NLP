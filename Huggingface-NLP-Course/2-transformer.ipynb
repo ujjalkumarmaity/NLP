{
  "cells": [
    {
      "cell_type": "markdown",
      "metadata": {
        "colab_type": "text",
        "id": "view-in-github"
      },
      "source": [
        "<a href=\"https://colab.research.google.com/github/ujjalkumarmaity/NLP/blob/main/Huggingface-NLP-Course/2-transformer.ipynb\" target=\"_parent\"><img src=\"https://colab.research.google.com/assets/colab-badge.svg\" alt=\"Open In Colab\"/></a>"
      ]
    },
    {
      "cell_type": "markdown",
      "metadata": {
        "id": "lz01UOWuWG3m"
      },
      "source": [
        "### pipeline"
      ]
    },
    {
      "cell_type": "markdown",
      "metadata": {
        "id": "-RUIdUD1XX1l"
      },
      "source": [
        "pipeline groups together three steps: preprocessing, passing the inputs through the model, and postprocessing"
      ]
    },
    {
      "cell_type": "markdown",
      "metadata": {
        "id": "3vxKinH-X4f7"
      },
      "source": [
        "list of task - `['audio-classification', 'automatic-speech-recognition', 'conversational', 'depth-estimation', 'document-question-answering', 'feature-extraction', 'fill-mask', 'image-classification', 'image-segmentation', 'image-to-image', 'image-to-text', 'mask-generation', 'ner', 'object-detection', 'question-answering', 'sentiment-analysis', 'summarization', 'table-question-answering', 'text-classification', 'text-generation', 'text-to-audio', 'text-to-speech', 'text2text-generation', 'token-classification', 'translation', 'video-classification', 'visual-question-answering', 'vqa', 'zero-shot-audio-classification', 'zero-shot-classification', 'zero-shot-image-classification', 'zero-shot-object-detection', 'translation_XX_to_YY']`"
      ]
    },
    {
      "cell_type": "code",
      "execution_count": 11,
      "metadata": {
        "colab": {
          "base_uri": "https://localhost:8080/"
        },
        "id": "LTTHEwd2Hrun",
        "outputId": "b9f0a4c5-8cc8-4717-f221-53d4c6647bc3"
      },
      "outputs": [
        {
          "data": {
            "text/plain": [
              "[{'label': 'POSITIVE', 'score': 0.9598048329353333},\n",
              " {'label': 'NEGATIVE', 'score': 0.9994558691978455}]"
            ]
          },
          "execution_count": 11,
          "metadata": {},
          "output_type": "execute_result"
        }
      ],
      "source": [
        "from transformers import pipeline\n",
        "# sentiment-analysis will return a [`TextClassificationPipeline`]\n",
        "classifier = pipeline(\"sentiment-analysis\",model=\"distilbert-base-uncased-finetuned-sst-2-english\")\n",
        "classifier(\n",
        "    [\n",
        "        \"I've been waiting for a HuggingFace course my whole life.\",\n",
        "        \"I hate this so much!\",\n",
        "    ]\n",
        ")\n",
        "\n"
      ]
    },
    {
      "cell_type": "code",
      "execution_count": 8,
      "metadata": {
        "colab": {
          "base_uri": "https://localhost:8080/"
        },
        "id": "wUtwjp3KYqyk",
        "outputId": "774b4118-83c0-454c-9155-dc42afaef60e"
      },
      "outputs": [
        {
          "data": {
            "text/plain": [
              "<transformers.pipelines.text_classification.TextClassificationPipeline at 0x7b23abacd660>"
            ]
          },
          "execution_count": 8,
          "metadata": {},
          "output_type": "execute_result"
        }
      ],
      "source": [
        "classifier"
      ]
    },
    {
      "cell_type": "code",
      "execution_count": 12,
      "metadata": {
        "colab": {
          "base_uri": "https://localhost:8080/"
        },
        "id": "T7VQNgHlYqG0",
        "outputId": "48908711-001b-4a04-a9e2-819d4d46df1c"
      },
      "outputs": [
        {
          "data": {
            "text/plain": [
              "transformers.pipelines.text_classification.TextClassificationPipeline"
            ]
          },
          "execution_count": 12,
          "metadata": {},
          "output_type": "execute_result"
        }
      ],
      "source": [
        "from transformers import TextClassificationPipeline\n",
        "TextClassificationPipeline"
      ]
    },
    {
      "cell_type": "markdown",
      "metadata": {
        "id": "7Ir9hLoWWOD8"
      },
      "source": [
        "### Model"
      ]
    },
    {
      "cell_type": "code",
      "execution_count": null,
      "metadata": {
        "id": "YUtIn2uwJ7vL"
      },
      "outputs": [],
      "source": [
        "# load any model. it auutomatically detect model configration\n",
        "from transformers import AutoModel\n",
        "model = AutoModel.from_pretrained('distilgpt2')"
      ]
    },
    {
      "cell_type": "code",
      "execution_count": null,
      "metadata": {
        "colab": {
          "base_uri": "https://localhost:8080/"
        },
        "id": "Ygvm5jnyNKsR",
        "outputId": "6baf0c4d-3095-4c1b-8a95-3c349cb114fc"
      },
      "outputs": [
        {
          "name": "stdout",
          "output_type": "stream",
          "text": [
            "BertConfig {\n",
            "  \"attention_probs_dropout_prob\": 0.1,\n",
            "  \"classifier_dropout\": null,\n",
            "  \"hidden_act\": \"gelu\",\n",
            "  \"hidden_dropout_prob\": 0.1,\n",
            "  \"hidden_size\": 768,\n",
            "  \"initializer_range\": 0.02,\n",
            "  \"intermediate_size\": 3072,\n",
            "  \"layer_norm_eps\": 1e-12,\n",
            "  \"max_position_embeddings\": 512,\n",
            "  \"model_type\": \"bert\",\n",
            "  \"num_attention_heads\": 12,\n",
            "  \"num_hidden_layers\": 12,\n",
            "  \"pad_token_id\": 0,\n",
            "  \"position_embedding_type\": \"absolute\",\n",
            "  \"transformers_version\": \"4.35.0\",\n",
            "  \"type_vocab_size\": 2,\n",
            "  \"use_cache\": true,\n",
            "  \"vocab_size\": 30522\n",
            "}\n",
            "\n"
          ]
        }
      ],
      "source": [
        "# creating a BERT model\n",
        "# this model needs to be trained first.\n",
        "from transformers import BertConfig,BertModel\n",
        "from pprint import pprint\n",
        "pprint(BertConfig())\n",
        "config = BertConfig()\n",
        "bert_model = BertModel(config)"
      ]
    },
    {
      "cell_type": "code",
      "execution_count": null,
      "metadata": {
        "colab": {
          "base_uri": "https://localhost:8080/"
        },
        "id": "-0H9WUvDNr0i",
        "outputId": "7d6e4fad-9294-49f3-e7fa-3e28acf4194c"
      },
      "outputs": [
        {
          "data": {
            "text/plain": [
              "BertModel(\n",
              "  (embeddings): BertEmbeddings(\n",
              "    (word_embeddings): Embedding(28996, 768, padding_idx=0)\n",
              "    (position_embeddings): Embedding(512, 768)\n",
              "    (token_type_embeddings): Embedding(2, 768)\n",
              "    (LayerNorm): LayerNorm((768,), eps=1e-12, elementwise_affine=True)\n",
              "    (dropout): Dropout(p=0.1, inplace=False)\n",
              "  )\n",
              "  (encoder): BertEncoder(\n",
              "    (layer): ModuleList(\n",
              "      (0-11): 12 x BertLayer(\n",
              "        (attention): BertAttention(\n",
              "          (self): BertSelfAttention(\n",
              "            (query): Linear(in_features=768, out_features=768, bias=True)\n",
              "            (key): Linear(in_features=768, out_features=768, bias=True)\n",
              "            (value): Linear(in_features=768, out_features=768, bias=True)\n",
              "            (dropout): Dropout(p=0.1, inplace=False)\n",
              "          )\n",
              "          (output): BertSelfOutput(\n",
              "            (dense): Linear(in_features=768, out_features=768, bias=True)\n",
              "            (LayerNorm): LayerNorm((768,), eps=1e-12, elementwise_affine=True)\n",
              "            (dropout): Dropout(p=0.1, inplace=False)\n",
              "          )\n",
              "        )\n",
              "        (intermediate): BertIntermediate(\n",
              "          (dense): Linear(in_features=768, out_features=3072, bias=True)\n",
              "          (intermediate_act_fn): GELUActivation()\n",
              "        )\n",
              "        (output): BertOutput(\n",
              "          (dense): Linear(in_features=3072, out_features=768, bias=True)\n",
              "          (LayerNorm): LayerNorm((768,), eps=1e-12, elementwise_affine=True)\n",
              "          (dropout): Dropout(p=0.1, inplace=False)\n",
              "        )\n",
              "      )\n",
              "    )\n",
              "  )\n",
              "  (pooler): BertPooler(\n",
              "    (dense): Linear(in_features=768, out_features=768, bias=True)\n",
              "    (activation): Tanh()\n",
              "  )\n",
              ")"
            ]
          },
          "execution_count": 21,
          "metadata": {},
          "output_type": "execute_result"
        }
      ],
      "source": [
        "model = BertModel.from_pretrained('bert-base-cased')\n",
        "model"
      ]
    },
    {
      "cell_type": "markdown",
      "metadata": {
        "id": "tzIL1fe3lzPg"
      },
      "source": [
        "### Tokenizer\n",
        "\n",
        "\n"
      ]
    },
    {
      "cell_type": "markdown",
      "metadata": {
        "id": "1R2oaJYZxZZp"
      },
      "source": [
        "*   convert our text inputs to numerical data\n",
        "*   \"unknown” token, often represented as ”[UNK]”\n",
        "*   One way to reduce the amount of unknown tokens is to go one level deeper, using a character-based tokenizer.\n",
        "*    **Subword tokenization** algorithms rely on the principle that frequently used words should not be split into smaller subwords, but rare words should be decomposed into meaningful subwords\n",
        "\n",
        "<img src =\"https://huggingface.co/datasets/huggingface-course/documentation-images/resolve/main/en/chapter2/bpe_subword.svg\">\n",
        "\n",
        "\n",
        "* Other Tokenizer Algorithm\n",
        "    - Byte-level BPE, as used in GPT-2\n",
        "    - WordPiece, as used in BERT\n",
        "    - SentencePiece or Unigram, as used in several multilingual models\n",
        "\n"
      ]
    },
    {
      "cell_type": "code",
      "execution_count": null,
      "metadata": {
        "colab": {
          "base_uri": "https://localhost:8080/"
        },
        "id": "uYNcxpx_NgBS",
        "outputId": "9fe0d6e4-9300-451f-ff54-2701a365bac7"
      },
      "outputs": [
        {
          "data": {
            "text/plain": [
              "{'input_ids': [[101, 7993, 170, 13809, 23763, 2443, 1110, 3014, 102], [101, 1606, 170, 11303, 1200, 2443, 1110, 3014, 102]], 'token_type_ids': [[0, 0, 0, 0, 0, 0, 0, 0, 0], [0, 0, 0, 0, 0, 0, 0, 0, 0]], 'attention_mask': [[1, 1, 1, 1, 1, 1, 1, 1, 1], [1, 1, 1, 1, 1, 1, 1, 1, 1]]}"
            ]
          },
          "execution_count": 32,
          "metadata": {},
          "output_type": "execute_result"
        }
      ],
      "source": [
        "from transformers import BertTokenizer\n",
        "tokenizer = BertTokenizer.from_pretrained(\"bert-base-cased\")\n",
        "tokenizer([\"Using a Transformer network is simple\",\"using a transformer network is simple\"])"
      ]
    },
    {
      "cell_type": "code",
      "execution_count": null,
      "metadata": {
        "colab": {
          "base_uri": "https://localhost:8080/"
        },
        "id": "E-kVtIfSNhnq",
        "outputId": "e7479301-7f61-462d-add7-5fa722d53add"
      },
      "outputs": [
        {
          "data": {
            "text/plain": [
              "{'input_ids': [[101, 7993, 170, 13809, 23763, 2443, 1110, 3014, 102], [101, 1606, 170, 11303, 1200, 2443, 1110, 3014, 102]], 'token_type_ids': [[0, 0, 0, 0, 0, 0, 0, 0, 0], [0, 0, 0, 0, 0, 0, 0, 0, 0]], 'attention_mask': [[1, 1, 1, 1, 1, 1, 1, 1, 1], [1, 1, 1, 1, 1, 1, 1, 1, 1]]}"
            ]
          },
          "execution_count": 31,
          "metadata": {},
          "output_type": "execute_result"
        }
      ],
      "source": [
        "from transformers import AutoTokenizer\n",
        "tokenizer = AutoTokenizer.from_pretrained(\"bert-base-cased\")\n",
        "tokenizer([\"Using a Transformer network is simple\",\"using a transformer network is simple\"])"
      ]
    },
    {
      "cell_type": "markdown",
      "metadata": {
        "id": "iRCvRZ5ivGJd"
      },
      "source": [
        "**Encoding**\n",
        "\n",
        "Translating text to numbers is known as encoding\n",
        "\n",
        "Encoding is done in a two-step process: the **tokenization**, followed by the **conversion to input IDs**.\n",
        "\n"
      ]
    },
    {
      "cell_type": "code",
      "execution_count": null,
      "metadata": {
        "colab": {
          "base_uri": "https://localhost:8080/"
        },
        "id": "I5TP_KaxshBM",
        "outputId": "ab3788d5-a6e3-459a-ed66-2d3ed11003d2"
      },
      "outputs": [
        {
          "name": "stdout",
          "output_type": "stream",
          "text": [
            "['Using', 'a', 'Trans', '##former', 'network', 'is', 'simple']\n",
            "[7993, 170, 13809, 23763, 2443, 1110, 3014]\n"
          ]
        }
      ],
      "source": [
        "from transformers import AutoTokenizer\n",
        "tokenizer = AutoTokenizer.from_pretrained(\"bert-base-cased\")\n",
        "sequence = \"Using a Transformer network is simple\"\n",
        "token = tokenizer.tokenize(sequence)\n",
        "print(tokenizer.tokenize(sequence))\n",
        "print(tokenizer.convert_tokens_to_ids(token))"
      ]
    },
    {
      "cell_type": "markdown",
      "metadata": {
        "id": "6FwREQnAwnOF"
      },
      "source": [
        "**Decoding**\n",
        "\n",
        "Decoding is going the other way around: **from vocabulary indices, we want to get a string**. This can be done with the decode()"
      ]
    },
    {
      "cell_type": "code",
      "execution_count": null,
      "metadata": {
        "colab": {
          "base_uri": "https://localhost:8080/"
        },
        "id": "USTYqcHovyjK",
        "outputId": "d027a4a2-f8a0-4779-bb1e-1fe68ce8076d"
      },
      "outputs": [
        {
          "name": "stdout",
          "output_type": "stream",
          "text": [
            "Using a transformer network is simple\n"
          ]
        }
      ],
      "source": [
        "print(tokenizer.decode([7993, 170, 11303, 1200, 2443, 1110, 3014]))"
      ]
    },
    {
      "cell_type": "markdown",
      "metadata": {
        "id": "p0AzSnRCxQMP"
      },
      "source": [
        "### Handling multiple sequences\n"
      ]
    },
    {
      "cell_type": "markdown",
      "metadata": {
        "id": "nQCactclcPDE"
      },
      "source": [
        "- How do we handle multiple sequences?\n",
        "- How do we handle multiple sequences of different lengths?\n",
        "- Are vocabulary indices the only inputs that allow a model to work well?\n",
        "- Is there such a thing as too long a sequence?"
      ]
    },
    {
      "cell_type": "code",
      "execution_count": null,
      "metadata": {
        "colab": {
          "base_uri": "https://localhost:8080/"
        },
        "id": "C_Nqsg5jw0Kp",
        "outputId": "418d77df-ac92-46a2-8a38-a6cd5b9e1c09"
      },
      "outputs": [
        {
          "data": {
            "text/plain": [
              "SequenceClassifierOutput(loss=None, logits=tensor([[-2.7276,  2.8789]], grad_fn=<AddmmBackward0>), hidden_states=None, attentions=None)"
            ]
          },
          "execution_count": 7,
          "metadata": {},
          "output_type": "execute_result"
        }
      ],
      "source": [
        "#Models expect a batch of inputs\n",
        "import torch\n",
        "from transformers import AutoTokenizer, AutoModelForSequenceClassification\n",
        "checkpoint = \"distilbert-base-uncased-finetuned-sst-2-english\"\n",
        "tokenizer = AutoTokenizer.from_pretrained(checkpoint)\n",
        "model = AutoModelForSequenceClassification.from_pretrained(checkpoint)\n",
        "\n",
        "sequence = \"I've been waiting for a HuggingFace course my whole life.\"\n",
        "\n",
        "token = tokenizer.tokenize(sequence)\n",
        "ids = tokenizer.convert_tokens_to_ids(token)\n",
        "model(torch.tensor([ids])) # batch. instead of passing ids, we passing list of ids, because models expect multiple sentences by default"
      ]
    },
    {
      "cell_type": "markdown",
      "metadata": {
        "id": "dMweKv0_uRaU"
      },
      "source": [
        "**Padding the inputs**\n",
        "\n",
        "Is input sequence diferent then we add padding for same sequence length"
      ]
    },
    {
      "cell_type": "code",
      "execution_count": null,
      "metadata": {
        "colab": {
          "base_uri": "https://localhost:8080/"
        },
        "id": "kOSX8rZAkk1d",
        "outputId": "8c742e38-57e1-4bb3-99f8-63c27c3e1ad6"
      },
      "outputs": [
        {
          "name": "stderr",
          "output_type": "stream",
          "text": [
            "We strongly recommend passing in an `attention_mask` since your input_ids may be padded. See https://huggingface.co/docs/transformers/troubleshooting#incorrect-output-when-padding-tokens-arent-masked.\n"
          ]
        },
        {
          "name": "stdout",
          "output_type": "stream",
          "text": [
            "pad_token_id 0\n",
            "[[100, 200, 200, 200], [100, 200, 0, 0]]\n"
          ]
        },
        {
          "data": {
            "text/plain": [
              "SequenceClassifierOutput(loss=None, logits=tensor([[ 0.9290, -0.7948],\n",
              "        [ 0.6497, -0.5397]], grad_fn=<AddmmBackward0>), hidden_states=None, attentions=None)"
            ]
          },
          "execution_count": 11,
          "metadata": {},
          "output_type": "execute_result"
        }
      ],
      "source": [
        "print('pad_token_id',tokenizer.pad_token_id)\n",
        "ids = [[100,200,200,200],[100,200,tokenizer.pad_token_id,tokenizer.pad_token_id]]\n",
        "print(ids)\n",
        "model(torch.tensor(ids))"
      ]
    },
    {
      "cell_type": "markdown",
      "metadata": {
        "id": "cSRv6fPyvvAG"
      },
      "source": [
        "**Attention masks**\n",
        "\n",
        "attention layers that contextualize each token\n",
        "\n",
        "Attention masks are tensors with the exact **same shape as the input IDs tensor**, filled with 0s and 1s: **1s indicate the corresponding tokens should be attended** to, and **0s indicate the corresponding tokens should not be attended**"
      ]
    },
    {
      "cell_type": "code",
      "execution_count": null,
      "metadata": {
        "colab": {
          "base_uri": "https://localhost:8080/"
        },
        "id": "3JD0qb2-uoPT",
        "outputId": "aad1ff57-8a68-4715-c727-3ec82c5214f5"
      },
      "outputs": [
        {
          "name": "stdout",
          "output_type": "stream",
          "text": [
            "{'attention_mask': [[1, 1, 1, 1, 1, 1, 1, 1, 1, 1],\n",
            "                    [1, 1, 1, 1, 1, 0, 0, 0, 0, 0]],\n",
            " 'input_ids': [[101, 2209, 8798, 1115, 5618, 4746, 3708, 1296, 22559, 102],\n",
            "               [101, 1415, 1846, 2235, 102, 0, 0, 0, 0, 0]],\n",
            " 'token_type_ids': [[0, 0, 0, 0, 0, 0, 0, 0, 0, 0],\n",
            "                    [0, 0, 0, 0, 0, 0, 0, 0, 0, 0]]}\n"
          ]
        }
      ],
      "source": [
        "from transformers import AutoTokenizer\n",
        "from pprint import pprint\n",
        "checkpoint = \"bert-base-cased\"\n",
        "tokenizer = AutoTokenizer.from_pretrained(checkpoint)\n",
        "pprint(tokenizer(['attention layers that contextualize each token','large language model'], max_length=10, padding=\"max_length\")) # 0 ignore"
      ]
    },
    {
      "cell_type": "markdown",
      "metadata": {
        "id": "7veUec0Jx7zi"
      },
      "source": [
        "**Longer sequences**\n",
        "- In transformer model limit to the lengths of the sequences we can pass the models. Most models handle sequences of up to 512 or 1024 tokens\n",
        "- two solutions to this problem -\n",
        "    - Use a model with a longer supported sequence length (https://huggingface.co/docs/transformers/model_doc/longformer)\n",
        "    - Truncate your sequences"
      ]
    },
    {
      "cell_type": "code",
      "execution_count": null,
      "metadata": {
        "colab": {
          "base_uri": "https://localhost:8080/"
        },
        "id": "Yd323gp0utMZ",
        "outputId": "2ff31285-9cbb-42d7-968c-febaae507d8f"
      },
      "outputs": [
        {
          "name": "stdout",
          "output_type": "stream",
          "text": [
            "{'attention_mask': [[1, 1, 1, 1, 1], [1, 1, 1, 1, 1]],\n",
            " 'input_ids': [[101, 2209, 8798, 1115, 102], [101, 1415, 1846, 2235, 102]],\n",
            " 'token_type_ids': [[0, 0, 0, 0, 0], [0, 0, 0, 0, 0]]}\n"
          ]
        }
      ],
      "source": [
        "# Truncate your sequences\n",
        "checkpoint = \"bert-base-cased\"\n",
        "tokenizer = AutoTokenizer.from_pretrained(checkpoint)\n",
        "pprint(tokenizer(['attention layers that contextualize each token','large language model'], max_length=5, padding=\"max_length\",truncation=True))"
      ]
    },
    {
      "cell_type": "markdown",
      "metadata": {
        "id": "i2qAndqr0tN-"
      },
      "source": [
        "**Special tokens**\n",
        "\n",
        "- tokenizer added the special word [CLS] at the beginning and the special word [SEP] at the end."
      ]
    },
    {
      "cell_type": "code",
      "execution_count": null,
      "metadata": {
        "colab": {
          "base_uri": "https://localhost:8080/",
          "height": 70
        },
        "id": "TJ5KKxMmwqBd",
        "outputId": "9005a087-8451-44f9-d7b6-c9e091955e9f"
      },
      "outputs": [
        {
          "name": "stdout",
          "output_type": "stream",
          "text": [
            "[2209, 8798, 1115, 5618, 4746, 3708, 1296, 22559]\n",
            "input_ids [101, 2209, 8798, 1115, 5618, 4746, 3708, 1296, 22559, 102]\n"
          ]
        },
        {
          "data": {
            "application/vnd.google.colaboratory.intrinsic+json": {
              "type": "string"
            },
            "text/plain": [
              "'[CLS] attention layers that contextualize each token [SEP]'"
            ]
          },
          "execution_count": 25,
          "metadata": {},
          "output_type": "execute_result"
        }
      ],
      "source": [
        "# Truncate your sequences\n",
        "checkpoint = \"bert-base-cased\"\n",
        "tokenizer = AutoTokenizer.from_pretrained(checkpoint)\n",
        "seq = 'attention layers that contextualize each token'\n",
        "tok = tokenizer(seq)\n",
        "print(tokenizer.convert_tokens_to_ids(tokenizer.tokenize(seq)))\n",
        "print('input_ids',tok['input_ids'])\n",
        "\n",
        "#\n",
        "tokenizer.decode(tok['input_ids'])"
      ]
    },
    {
      "cell_type": "code",
      "execution_count": null,
      "metadata": {
        "id": "gcMOTVMTzxQR"
      },
      "outputs": [],
      "source": []
    }
  ],
  "metadata": {
    "colab": {
      "authorship_tag": "ABX9TyOW7pZ7AJdOqsm8kniMhdQH",
      "include_colab_link": true,
      "provenance": []
    },
    "kernelspec": {
      "display_name": "Python 3",
      "name": "python3"
    },
    "language_info": {
      "name": "python"
    }
  },
  "nbformat": 4,
  "nbformat_minor": 0
}
