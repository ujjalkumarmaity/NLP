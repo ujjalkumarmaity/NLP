{
  "cells": [
    {
      "cell_type": "markdown",
      "id": "03bd9ceb",
      "metadata": {
        "id": "03bd9ceb"
      },
      "source": [
        "## BERT (Bidirectional Encoder Representations from Transformers)\n",
        "-\n",
        "\n",
        "\n",
        "\n",
        "#### BERT NLP Application\n",
        "- Google Search\n",
        "- Sentiment Analysis\n",
        "- Language Translation\n",
        "- Text Summarization\n",
        "- Question Answering\n",
        "- Highlighting paragraphs"
      ]
    },
    {
      "cell_type": "markdown",
      "source": [
        "### Pre-trained bert model\n",
        "- **BERT-base**: This is the base version of BERT with 12 transformer layers, 768 hidden units, and 12 self-attention heads.\n",
        "\n",
        "- **BERT-large**: BERT-large is a larger version of BERT with 24 transformer layers, 1024 hidden units, and 16 self-attention heads\n",
        "\n",
        "- **BERT-cased**: BERT-cased retains the casing information of the original text during pre-training. This can be useful for tasks where capitalization plays a significant role, such as named entity recognition.\n",
        "\n",
        "- **BERT-uncased**: BERT-uncased converts all text to lowercase during pre-training. It is suitable when the case information is less important for the specific NLP task.\n",
        "\n",
        "\n",
        "\n"
      ],
      "metadata": {
        "id": "h6B5P47kzS4u"
      },
      "id": "h6B5P47kzS4u"
    },
    {
      "cell_type": "markdown",
      "id": "917731b0",
      "metadata": {
        "id": "917731b0"
      },
      "source": [
        "### Reference\n",
        "http://jalammar.github.io/illustrated-bert/"
      ]
    },
    {
      "cell_type": "code",
      "execution_count": null,
      "id": "7ff118b6",
      "metadata": {
        "id": "7ff118b6"
      },
      "outputs": [],
      "source": []
    },
    {
      "cell_type": "markdown",
      "source": [
        "## Sentiment analysis using BERT"
      ],
      "metadata": {
        "id": "geBKyXKhu604"
      },
      "id": "geBKyXKhu604"
    },
    {
      "cell_type": "code",
      "source": [
        "!pip install transformers"
      ],
      "metadata": {
        "colab": {
          "base_uri": "https://localhost:8080/"
        },
        "id": "kmBmYOpdvaZB",
        "outputId": "2c9954ca-5e82-455d-ad2c-4f98cc26e7e2"
      },
      "id": "kmBmYOpdvaZB",
      "execution_count": 2,
      "outputs": [
        {
          "output_type": "stream",
          "name": "stdout",
          "text": [
            "Installing collected packages: tokenizers, safetensors, huggingface-hub, transformers\n",
            "Successfully installed huggingface-hub-0.15.1 safetensors-0.3.1 tokenizers-0.13.3 transformers-4.30.2\n"
          ]
        }
      ]
    },
    {
      "cell_type": "code",
      "execution_count": 4,
      "id": "c4969c0a",
      "metadata": {
        "id": "c4969c0a"
      },
      "outputs": [],
      "source": [
        "import transformers\n",
        "from transformers import BertModel, BertTokenizer\n",
        "import torch\n",
        "import pandas as pd"
      ]
    },
    {
      "cell_type": "code",
      "execution_count": null,
      "id": "2a4d152c",
      "metadata": {
        "id": "2a4d152c"
      },
      "outputs": [],
      "source": [
        "df = pd.read_csv('https://raw.githubusercontent.com/ujjalkumarmaity/NLP/main/bert/reviews.csv',on_bad_lines='skip')\n",
        "df = df[['content','score']]\n",
        "def convert_sentiment(x):\n",
        "    if x<=2:\n",
        "        return \"nagative\"\n",
        "    elif x==3:\n",
        "        return \"neutral\"\n",
        "    else:\n",
        "        return \"positive\"\n",
        "df['sentiment'] = df.score.apply(convert_sentiment)\n",
        "df.head(5)"
      ]
    },
    {
      "cell_type": "code",
      "source": [
        "df.sentiment.value_counts().plot(kind='bar')"
      ],
      "metadata": {
        "colab": {
          "base_uri": "https://localhost:8080/",
          "height": 494
        },
        "id": "nuc330gnwF-J",
        "outputId": "41b49825-a2b7-4ef0-dc11-1beb4189b2df"
      },
      "id": "nuc330gnwF-J",
      "execution_count": 9,
      "outputs": [
        {
          "output_type": "execute_result",
          "data": {
            "text/plain": [
              "<Axes: >"
            ]
          },
          "metadata": {},
          "execution_count": 9
        },
        {
          "output_type": "display_data",
          "data": {
            "text/plain": [
              "<Figure size 640x480 with 1 Axes>"
            ],
            "image/png": "[encoded data removed]"
          },
          "metadata": {}
        }
      ]
    },
    {
      "cell_type": "markdown",
      "source": [
        "### Preprocess Data"
      ],
      "metadata": {
        "id": "tuIHTS5QBRqN"
      },
      "id": "tuIHTS5QBRqN"
    },
    {
      "cell_type": "code",
      "source": [
        "tokenizer = BertTokenizer.from_pretrained('bert-base-cased')"
      ],
      "metadata": {
        "id": "OkRkH0AAAmck"
      },
      "id": "OkRkH0AAAmck",
      "execution_count": 12,
      "outputs": []
    },
    {
      "cell_type": "code",
      "source": [
        "tokenizer('let define the metrics you')"
      ],
      "metadata": {
        "id": "_Z3fjYKICZMU",
        "outputId": "cf96b5c1-ffa2-43de-839d-eb562f6e992b",
        "colab": {
          "base_uri": "https://localhost:8080/"
        }
      },
      "id": "_Z3fjYKICZMU",
      "execution_count": 14,
      "outputs": [
        {
          "output_type": "execute_result",
          "data": {
            "text/plain": [
              "{'input_ids': [101, 1519, 9410, 1103, 12676, 1116, 1128, 102], 'token_type_ids': [0, 0, 0, 0, 0, 0, 0, 0], 'attention_mask': [1, 1, 1, 1, 1, 1, 1, 1]}"
            ]
          },
          "metadata": {},
          "execution_count": 14
        }
      ]
    },
    {
      "cell_type": "code",
      "source": [
        "tokenizer.encode('let define the metrics you will be using to evaluate how good is your fine-tuned model')"
      ],
      "metadata": {
        "id": "cUXGeogWA4gU",
        "outputId": "a6c5b2a1-ab74-41ce-9d7a-d3206ee654de",
        "colab": {
          "base_uri": "https://localhost:8080/"
        }
      },
      "id": "cUXGeogWA4gU",
      "execution_count": 13,
      "outputs": [
        {
          "output_type": "execute_result",
          "data": {
            "text/plain": [
              "[101,\n",
              " 1599,\n",
              " 117,\n",
              " 1519,\n",
              " 9410,\n",
              " 1103,\n",
              " 12676,\n",
              " 1116,\n",
              " 1128,\n",
              " 1209,\n",
              " 1129,\n",
              " 1606,\n",
              " 1106,\n",
              " 17459,\n",
              " 1293,\n",
              " 1363,\n",
              " 1110,\n",
              " 1240,\n",
              " 2503,\n",
              " 118,\n",
              " 17169,\n",
              " 2235,\n",
              " 102]"
            ]
          },
          "metadata": {},
          "execution_count": 13
        }
      ]
    },
    {
      "cell_type": "code",
      "source": [],
      "metadata": {
        "id": "gLJBjn3WA8Ft"
      },
      "id": "gLJBjn3WA8Ft",
      "execution_count": null,
      "outputs": []
    }
  ],
  "metadata": {
    "kernelspec": {
      "display_name": "Python 3",
      "name": "python3"
    },
    "language_info": {
      "codemirror_mode": {
        "name": "ipython",
        "version": 3
      },
      "file_extension": ".py",
      "mimetype": "text/x-python",
      "name": "python",
      "nbconvert_exporter": "python",
      "pygments_lexer": "ipython3",
      "version": "3.10.9"
    },
    "colab": {
      "provenance": [],
      "gpuType": "T4"
    },
    "accelerator": "GPU"
  },
  "nbformat": 4,
  "nbformat_minor": 5
}