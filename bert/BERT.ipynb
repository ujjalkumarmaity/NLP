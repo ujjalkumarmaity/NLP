{
  "cells": [
    {
      "cell_type": "markdown",
      "metadata": {
        "id": "view-in-github",
        "colab_type": "text"
      },
      "source": [
        "<a href=\"https://colab.research.google.com/github/ujjalkumarmaity/NLP/blob/main/bert/BERT.ipynb\" target=\"_parent\"><img src=\"https://colab.research.google.com/assets/colab-badge.svg\" alt=\"Open In Colab\"/></a>"
      ]
    },
    {
      "cell_type": "markdown",
      "id": "03bd9ceb",
      "metadata": {
        "id": "03bd9ceb"
      },
      "source": [
        "## BERT (Bidirectional Encoder Representations from Transformers)\n",
        "-\n",
        "\n",
        "\n",
        "\n",
        "#### BERT NLP Application\n",
        "- Google Search\n",
        "- Sentiment Analysis\n",
        "- Language Translation\n",
        "- Text Summarization\n",
        "- Question Answering\n",
        "- Highlighting paragraphs"
      ]
    },
    {
      "cell_type": "markdown",
      "source": [
        "### Pre-trained bert model\n",
        "- **BERT-base**: This is the base version of BERT with 12 transformer layers, 768 hidden units, and 12 self-attention heads.\n",
        "\n",
        "- **BERT-large**: BERT-large is a larger version of BERT with 24 transformer layers, 1024 hidden units, and 16 self-attention heads\n",
        "\n",
        "- **BERT-cased**: BERT-cased retains the casing information of the original text during pre-training. This can be useful for tasks where capitalization plays a significant role, such as named entity recognition.\n",
        "\n",
        "- **BERT-uncased**: BERT-uncased converts all text to lowercase during pre-training. It is suitable when the case information is less important for the specific NLP task.\n",
        "\n",
        "\n",
        "\n"
      ],
      "metadata": {
        "id": "h6B5P47kzS4u"
      },
      "id": "h6B5P47kzS4u"
    },
    {
      "cell_type": "markdown",
      "id": "917731b0",
      "metadata": {
        "id": "917731b0"
      },
      "source": [
        "### Reference\n",
        "http://jalammar.github.io/illustrated-bert/"
      ]
    },
    {
      "cell_type": "code",
      "execution_count": null,
      "id": "7ff118b6",
      "metadata": {
        "id": "7ff118b6"
      },
      "outputs": [],
      "source": []
    },
    {
      "cell_type": "markdown",
      "source": [
        "## Sentiment analysis using BERT"
      ],
      "metadata": {
        "id": "geBKyXKhu604"
      },
      "id": "geBKyXKhu604"
    },
    {
      "cell_type": "code",
      "source": [
        "!pip install transformers"
      ],
      "metadata": {
        "id": "kmBmYOpdvaZB"
      },
      "id": "kmBmYOpdvaZB",
      "execution_count": 1,
      "outputs": []
    },
    {
      "cell_type": "code",
      "execution_count": 2,
      "id": "c4969c0a",
      "metadata": {
        "id": "c4969c0a"
      },
      "outputs": [],
      "source": [
        "import transformers\n",
        "from transformers import BertModel, BertTokenizer\n",
        "import torch\n",
        "import torch.nn as nn\n",
        "from torch.utils.data import Dataset,DataLoader\n",
        "import pandas as pd,numpy as np\n",
        "from sklearn.model_selection import train_test_split\n",
        "import warnings\n",
        "warnings.filterwarnings(\"ignore\")"
      ]
    },
    {
      "cell_type": "code",
      "source": [
        "if torch.cuda.is_available():\n",
        "    torch.device('cuda')\n",
        "    device = 'cuda'\n",
        "else:\n",
        "    torch.device('cpu')\n",
        "    device = 'cpu'"
      ],
      "metadata": {
        "id": "22YEzuaHYcmt"
      },
      "id": "22YEzuaHYcmt",
      "execution_count": 3,
      "outputs": []
    },
    {
      "cell_type": "code",
      "execution_count": 4,
      "id": "2a4d152c",
      "metadata": {
        "colab": {
          "base_uri": "https://localhost:8080/",
          "height": 206
        },
        "id": "2a4d152c",
        "outputId": "95629ff0-9fe3-4cc0-b0b5-3c851aa2cb98"
      },
      "outputs": [
        {
          "output_type": "execute_result",
          "data": {
            "text/plain": [
              "                                             content  score  sentiment\n",
              "0                      I cannot open the app anymore      1          0\n",
              "1  I have been begging for a refund from this app...      1          0\n",
              "2  Very costly for the premium version (approx In...      1          0\n",
              "3  Used to keep me organized, but all the 2020 UP...      1          0\n",
              "4                                Dan Birthday Oct 28      1          0"
            ],
            "text/html": [
              "\n",
              "  <div id=\"df-2daf0613-8f46-4461-8112-015443e8031c\">\n",
              "    <div class=\"colab-df-container\">\n",
              "      <div>\n",
              "<style scoped>\n",
              "    .dataframe tbody tr th:only-of-type {\n",
              "        vertical-align: middle;\n",
              "    }\n",
              "\n",
              "    .dataframe tbody tr th {\n",
              "        vertical-align: top;\n",
              "    }\n",
              "\n",
              "    .dataframe thead th {\n",
              "        text-align: right;\n",
              "    }\n",
              "</style>\n",
              "<table border=\"1\" class=\"dataframe\">\n",
              "  <thead>\n",
              "    <tr style=\"text-align: right;\">\n",
              "      <th></th>\n",
              "      <th>content</th>\n",
              "      <th>score</th>\n",
              "      <th>sentiment</th>\n",
              "    </tr>\n",
              "  </thead>\n",
              "  <tbody>\n",
              "    <tr>\n",
              "      <th>0</th>\n",
              "      <td>I cannot open the app anymore</td>\n",
              "      <td>1</td>\n",
              "      <td>0</td>\n",
              "    </tr>\n",
              "    <tr>\n",
              "      <th>1</th>\n",
              "      <td>I have been begging for a refund from this app...</td>\n",
              "      <td>1</td>\n",
              "      <td>0</td>\n",
              "    </tr>\n",
              "    <tr>\n",
              "      <th>2</th>\n",
              "      <td>Very costly for the premium version (approx In...</td>\n",
              "      <td>1</td>\n",
              "      <td>0</td>\n",
              "    </tr>\n",
              "    <tr>\n",
              "      <th>3</th>\n",
              "      <td>Used to keep me organized, but all the 2020 UP...</td>\n",
              "      <td>1</td>\n",
              "      <td>0</td>\n",
              "    </tr>\n",
              "    <tr>\n",
              "      <th>4</th>\n",
              "      <td>Dan Birthday Oct 28</td>\n",
              "      <td>1</td>\n",
              "      <td>0</td>\n",
              "    </tr>\n",
              "  </tbody>\n",
              "</table>\n",
              "</div>\n",
              "      <button class=\"colab-df-convert\" onclick=\"convertToInteractive('df-2daf0613-8f46-4461-8112-015443e8031c')\"\n",
              "              title=\"Convert this dataframe to an interactive table.\"\n",
              "              style=\"display:none;\">\n",
              "        \n",
              "  <svg xmlns=\"http://www.w3.org/2000/svg\" height=\"24px\"viewBox=\"0 0 24 24\"\n",
              "       width=\"24px\">\n",
              "    <path d=\"M0 0h24v24H0V0z\" fill=\"none\"/>\n",
              "    <path d=\"M18.56 5.44l.94 2.06.94-2.06 2.06-.94-2.06-.94-.94-2.06-.94 2.06-2.06.94zm-11 1L8.5 8.5l.94-2.06 2.06-.94-2.06-.94L8.5 2.5l-.94 2.06-2.06.94zm10 10l.94 2.06.94-2.06 2.06-.94-2.06-.94-.94-2.06-.94 2.06-2.06.94z\"/><path d=\"M17.41 7.96l-1.37-1.37c-.4-.4-.92-.59-1.43-.59-.52 0-1.04.2-1.43.59L10.3 9.45l-7.72 7.72c-.78.78-.78 2.05 0 2.83L4 21.41c.39.39.9.59 1.41.59.51 0 1.02-.2 1.41-.59l7.78-7.78 2.81-2.81c.8-.78.8-2.07 0-2.86zM5.41 20L4 18.59l7.72-7.72 1.47 1.35L5.41 20z\"/>\n",
              "  </svg>\n",
              "      </button>\n",
              "      \n",
              "  <style>\n",
              "    .colab-df-container {\n",
              "      display:flex;\n",
              "      flex-wrap:wrap;\n",
              "      gap: 12px;\n",
              "    }\n",
              "\n",
              "    .colab-df-convert {\n",
              "      background-color: #E8F0FE;\n",
              "      border: none;\n",
              "      border-radius: 50%;\n",
              "      cursor: pointer;\n",
              "      display: none;\n",
              "      fill: #1967D2;\n",
              "      height: 32px;\n",
              "      padding: 0 0 0 0;\n",
              "      width: 32px;\n",
              "    }\n",
              "\n",
              "    .colab-df-convert:hover {\n",
              "      background-color: #E2EBFA;\n",
              "      box-shadow: 0px 1px 2px rgba(60, 64, 67, 0.3), 0px 1px 3px 1px rgba(60, 64, 67, 0.15);\n",
              "      fill: #174EA6;\n",
              "    }\n",
              "\n",
              "    [theme=dark] .colab-df-convert {\n",
              "      background-color: #3B4455;\n",
              "      fill: #D2E3FC;\n",
              "    }\n",
              "\n",
              "    [theme=dark] .colab-df-convert:hover {\n",
              "      background-color: #434B5C;\n",
              "      box-shadow: 0px 1px 3px 1px rgba(0, 0, 0, 0.15);\n",
              "      filter: drop-shadow(0px 1px 2px rgba(0, 0, 0, 0.3));\n",
              "      fill: #FFFFFF;\n",
              "    }\n",
              "  </style>\n",
              "\n",
              "      <script>\n",
              "        const buttonEl =\n",
              "          document.querySelector('#df-2daf0613-8f46-4461-8112-015443e8031c button.colab-df-convert');\n",
              "        buttonEl.style.display =\n",
              "          google.colab.kernel.accessAllowed ? 'block' : 'none';\n",
              "\n",
              "        async function convertToInteractive(key) {\n",
              "          const element = document.querySelector('#df-2daf0613-8f46-4461-8112-015443e8031c');\n",
              "          const dataTable =\n",
              "            await google.colab.kernel.invokeFunction('convertToInteractive',\n",
              "                                                     [key], {});\n",
              "          if (!dataTable) return;\n",
              "\n",
              "          const docLinkHtml = 'Like what you see? Visit the ' +\n",
              "            '<a target=\"_blank\" href=https://colab.research.google.com/notebooks/data_table.ipynb>data table notebook</a>'\n",
              "            + ' to learn more about interactive tables.';\n",
              "          element.innerHTML = '';\n",
              "          dataTable['output_type'] = 'display_data';\n",
              "          await google.colab.output.renderOutput(dataTable, element);\n",
              "          const docLink = document.createElement('div');\n",
              "          docLink.innerHTML = docLinkHtml;\n",
              "          element.appendChild(docLink);\n",
              "        }\n",
              "      </script>\n",
              "    </div>\n",
              "  </div>\n",
              "  "
            ]
          },
          "metadata": {},
          "execution_count": 4
        }
      ],
      "source": [
        "df = pd.read_csv('https://raw.githubusercontent.com/ujjalkumarmaity/NLP/main/bert/reviews.csv',on_bad_lines='skip')\n",
        "df = df[['content','score']]\n",
        "def convert_sentiment(x):\n",
        "    if x<=2:\n",
        "        return 0\n",
        "    elif x==3:\n",
        "        return 1\n",
        "    else:\n",
        "        return 2\n",
        "df['sentiment'] = df.score.apply(convert_sentiment)\n",
        "df.head(5)"
      ]
    },
    {
      "cell_type": "code",
      "source": [
        "df.score.value_counts().plot(kind='bar')"
      ],
      "metadata": {
        "colab": {
          "base_uri": "https://localhost:8080/",
          "height": 444
        },
        "id": "nuc330gnwF-J",
        "outputId": "16344820-f95e-4526-c23e-87c18cad42dd"
      },
      "id": "nuc330gnwF-J",
      "execution_count": 5,
      "outputs": [
        {
          "output_type": "execute_result",
          "data": {
            "text/plain": [
              "<Axes: >"
            ]
          },
          "metadata": {},
          "execution_count": 5
        },
        {
          "output_type": "display_data",
          "data": {
            "text/plain": [
              "<Figure size 640x480 with 1 Axes>"
            ],
            "image/png": "[encoded data removed]"
          },
          "metadata": {}
        }
      ]
    },
    {
      "cell_type": "code",
      "source": [
        "df = df[['content','sentiment']]"
      ],
      "metadata": {
        "id": "Ums6h1S_iQ-J"
      },
      "id": "Ums6h1S_iQ-J",
      "execution_count": 6,
      "outputs": []
    },
    {
      "cell_type": "code",
      "source": [
        "# max word of content\n",
        "df.content.str.split().str.len().max()"
      ],
      "metadata": {
        "colab": {
          "base_uri": "https://localhost:8080/"
        },
        "id": "cnFuWyoQz-9p",
        "outputId": "4c350e44-07e8-4c9d-dcfc-a6bdee3420bc"
      },
      "id": "cnFuWyoQz-9p",
      "execution_count": 7,
      "outputs": [
        {
          "output_type": "execute_result",
          "data": {
            "text/plain": [
              "723"
            ]
          },
          "metadata": {},
          "execution_count": 7
        }
      ]
    },
    {
      "cell_type": "markdown",
      "source": [
        "### Preprocess Data"
      ],
      "metadata": {
        "id": "tuIHTS5QBRqN"
      },
      "id": "tuIHTS5QBRqN"
    },
    {
      "cell_type": "code",
      "source": [
        "tokenizer = BertTokenizer.from_pretrained('bert-base-cased')"
      ],
      "metadata": {
        "id": "OkRkH0AAAmck"
      },
      "id": "OkRkH0AAAmck",
      "execution_count": 8,
      "outputs": []
    },
    {
      "cell_type": "code",
      "source": [
        "tokenizer.tokenize(\"let define the metrics you\")"
      ],
      "metadata": {
        "colab": {
          "base_uri": "https://localhost:8080/"
        },
        "id": "--_1TrjmH1aR",
        "outputId": "c55be3f1-cb3d-49aa-8bb7-1fad38909110"
      },
      "id": "--_1TrjmH1aR",
      "execution_count": 9,
      "outputs": [
        {
          "output_type": "execute_result",
          "data": {
            "text/plain": [
              "['let', 'define', 'the', 'metric', '##s', 'you']"
            ]
          },
          "metadata": {},
          "execution_count": 9
        }
      ]
    },
    {
      "cell_type": "code",
      "source": [
        "# Construct a BERT tokenizer\n",
        "tokenizer('let define the metrics you')"
      ],
      "metadata": {
        "colab": {
          "base_uri": "https://localhost:8080/"
        },
        "id": "_Z3fjYKICZMU",
        "outputId": "0de53f40-809a-4116-80eb-18c93484a634"
      },
      "id": "_Z3fjYKICZMU",
      "execution_count": 10,
      "outputs": [
        {
          "output_type": "execute_result",
          "data": {
            "text/plain": [
              "{'input_ids': [101, 1519, 9410, 1103, 12676, 1116, 1128, 102], 'token_type_ids': [0, 0, 0, 0, 0, 0, 0, 0], 'attention_mask': [1, 1, 1, 1, 1, 1, 1, 1]}"
            ]
          },
          "metadata": {},
          "execution_count": 10
        }
      ]
    },
    {
      "cell_type": "code",
      "source": [
        "# Converts a string to a sequence of ids (integer), using the tokenizer and vocabulary.\n",
        "tokenizer.encode('let define the metrics you')"
      ],
      "metadata": {
        "colab": {
          "base_uri": "https://localhost:8080/"
        },
        "id": "cUXGeogWA4gU",
        "outputId": "5e17af8c-7cbc-42c0-a1c7-c159b43c651a"
      },
      "id": "cUXGeogWA4gU",
      "execution_count": 11,
      "outputs": [
        {
          "output_type": "execute_result",
          "data": {
            "text/plain": [
              "[101, 1519, 9410, 1103, 12676, 1116, 1128, 102]"
            ]
          },
          "metadata": {},
          "execution_count": 11
        }
      ]
    },
    {
      "cell_type": "code",
      "source": [
        "tokenizer.encode_plus(\"let define the metrics you\")"
      ],
      "metadata": {
        "colab": {
          "base_uri": "https://localhost:8080/"
        },
        "id": "5VmOpjQ0ZpfI",
        "outputId": "79d41f4e-0533-40e6-f1b8-cd4ac9ecc675"
      },
      "id": "5VmOpjQ0ZpfI",
      "execution_count": 12,
      "outputs": [
        {
          "output_type": "execute_result",
          "data": {
            "text/plain": [
              "{'input_ids': [101, 1519, 9410, 1103, 12676, 1116, 1128, 102], 'token_type_ids': [0, 0, 0, 0, 0, 0, 0, 0], 'attention_mask': [1, 1, 1, 1, 1, 1, 1, 1]}"
            ]
          },
          "metadata": {},
          "execution_count": 12
        }
      ]
    },
    {
      "cell_type": "markdown",
      "source": [
        "### Prepare torch dataset"
      ],
      "metadata": {
        "id": "npMjkYRfXUSX"
      },
      "id": "npMjkYRfXUSX"
    },
    {
      "cell_type": "code",
      "source": [
        "class ReviewData(Dataset):\n",
        "    def __init__(self,tokenizer,review,label,max_len):\n",
        "        self.tokenizer = tokenizer\n",
        "        self.review = review\n",
        "        self.label = label\n",
        "        self.max_len = max_len\n",
        "\n",
        "    def __len__(self):\n",
        "        return len(self.review)\n",
        "    def __getitem__(self,ind):\n",
        "        review = self.review[ind]\n",
        "        label = self.label[ind]\n",
        "        embed = self.tokenizer.encode_plus(review,\n",
        "                                           add_special_tokens=True,\n",
        "                                           max_length = self.max_len,\n",
        "                                           return_attention_mask = True,\n",
        "                                           return_token_type_ids=False,\n",
        "                                           pad_to_max_length = True,\n",
        "                                           return_tensors = 'pt')\n",
        "        return {\n",
        "            'review' : review,\n",
        "            'input_ids' : embed['input_ids'].flatten(),\n",
        "            'attention_mask':embed['attention_mask'].flatten(),\n",
        "            'label' : torch.tensor(label,dtype = torch.long)\n",
        "        }"
      ],
      "metadata": {
        "id": "gLJBjn3WA8Ft"
      },
      "id": "gLJBjn3WA8Ft",
      "execution_count": 13,
      "outputs": []
    },
    {
      "cell_type": "code",
      "source": [
        "reviews = df.content.values\n",
        "senttiment = df.sentiment.values\n",
        "rd = ReviewData(tokenizer,reviews,senttiment,512)"
      ],
      "metadata": {
        "id": "hF2nOMQabthc"
      },
      "id": "hF2nOMQabthc",
      "execution_count": 14,
      "outputs": []
    },
    {
      "cell_type": "code",
      "source": [
        "print('review text',rd[5]['review'])\n",
        "print('input_ids shape',rd[5]['input_ids'].shape)\n",
        "print('attention_mask shape',rd[5]['attention_mask'].shape)\n",
        "print(rd[5]['label'])\n"
      ],
      "metadata": {
        "id": "2qwVqAEYbuDk",
        "outputId": "ff223ff2-d13f-4ae5-84a0-0c599a9bc6e9",
        "colab": {
          "base_uri": "https://localhost:8080/"
        }
      },
      "id": "2qwVqAEYbuDk",
      "execution_count": 15,
      "outputs": [
        {
          "output_type": "stream",
          "name": "stderr",
          "text": [
            "Truncation was not explicitly activated but `max_length` is provided a specific value, please use `truncation=True` to explicitly truncate examples to max length. Defaulting to 'longest_first' truncation strategy. If you encode pairs of sequences (GLUE-style) with the tokenizer you can select this strategy more precisely by providing a specific strategy to `truncation`.\n"
          ]
        },
        {
          "output_type": "stream",
          "name": "stdout",
          "text": [
            "review text It has changed how I viewed my different lists. Now they are all jumbled together and I can't find what I need.\n",
            "input_ids shape torch.Size([512])\n",
            "attention_mask shape torch.Size([512])\n",
            "tensor(0)\n"
          ]
        }
      ]
    },
    {
      "cell_type": "markdown",
      "source": [
        "**Split Data**"
      ],
      "metadata": {
        "id": "oYUUnjj0h-Sa"
      },
      "id": "oYUUnjj0h-Sa"
    },
    {
      "cell_type": "code",
      "source": [
        "train,test = train_test_split(df,test_size=0.3,random_state = 10)\n",
        "test,val = train_test_split(test,test_size=0.4,random_state = 10)"
      ],
      "metadata": {
        "id": "yHmAJBfHeGNr"
      },
      "id": "yHmAJBfHeGNr",
      "execution_count": 16,
      "outputs": []
    },
    {
      "cell_type": "markdown",
      "source": [
        "**Create Pytorch DataLoader**"
      ],
      "metadata": {
        "id": "0VpBNh-zjBqT"
      },
      "id": "0VpBNh-zjBqT"
    },
    {
      "cell_type": "code",
      "source": [
        "def cerate_dataloader(df,tokenizer,max_len,batch_size):\n",
        "    reviews = df.content.values\n",
        "    senttiment = df.sentiment.values\n",
        "    rd = ReviewData(tokenizer,reviews,senttiment,max_len)\n",
        "    return DataLoader(rd,batch_size = batch_size)\n"
      ],
      "metadata": {
        "id": "I4FJb-4sjAbQ"
      },
      "id": "I4FJb-4sjAbQ",
      "execution_count": 17,
      "outputs": []
    },
    {
      "cell_type": "code",
      "source": [
        "batch_size = 16\n",
        "max_len = 512\n",
        "train_dataloader = cerate_dataloader(train,tokenizer,max_len,batch_size)\n",
        "val_dataloader = cerate_dataloader(val,tokenizer,max_len,batch_size)\n",
        "test_dataloader = cerate_dataloader(test,tokenizer,max_len,batch_size)"
      ],
      "metadata": {
        "id": "lcCI-Wb9krMy"
      },
      "id": "lcCI-Wb9krMy",
      "execution_count": 18,
      "outputs": []
    },
    {
      "cell_type": "markdown",
      "source": [
        "### Model creation"
      ],
      "metadata": {
        "id": "L_-2f-X30n5p"
      },
      "id": "L_-2f-X30n5p"
    },
    {
      "cell_type": "code",
      "source": [
        "bert = BertModel.from_pretrained('bert-base-cased')\n",
        "bert.config"
      ],
      "metadata": {
        "colab": {
          "base_uri": "https://localhost:8080/"
        },
        "id": "BVOSG5vi0bWf",
        "outputId": "22c8e8b5-8df8-4f0c-c65f-4de5909081d8"
      },
      "id": "BVOSG5vi0bWf",
      "execution_count": 19,
      "outputs": [
        {
          "output_type": "stream",
          "name": "stderr",
          "text": [
            "Some weights of the model checkpoint at bert-base-cased were not used when initializing BertModel: ['cls.predictions.transform.LayerNorm.bias', 'cls.predictions.transform.dense.bias', 'cls.seq_relationship.bias', 'cls.predictions.transform.dense.weight', 'cls.predictions.bias', 'cls.seq_relationship.weight', 'cls.predictions.transform.LayerNorm.weight']\n",
            "- This IS expected if you are initializing BertModel from the checkpoint of a model trained on another task or with another architecture (e.g. initializing a BertForSequenceClassification model from a BertForPreTraining model).\n",
            "- This IS NOT expected if you are initializing BertModel from the checkpoint of a model that you expect to be exactly identical (initializing a BertForSequenceClassification model from a BertForSequenceClassification model).\n"
          ]
        },
        {
          "output_type": "execute_result",
          "data": {
            "text/plain": [
              "BertConfig {\n",
              "  \"_name_or_path\": \"bert-base-cased\",\n",
              "  \"architectures\": [\n",
              "    \"BertForMaskedLM\"\n",
              "  ],\n",
              "  \"attention_probs_dropout_prob\": 0.1,\n",
              "  \"classifier_dropout\": null,\n",
              "  \"gradient_checkpointing\": false,\n",
              "  \"hidden_act\": \"gelu\",\n",
              "  \"hidden_dropout_prob\": 0.1,\n",
              "  \"hidden_size\": 768,\n",
              "  \"initializer_range\": 0.02,\n",
              "  \"intermediate_size\": 3072,\n",
              "  \"layer_norm_eps\": 1e-12,\n",
              "  \"max_position_embeddings\": 512,\n",
              "  \"model_type\": \"bert\",\n",
              "  \"num_attention_heads\": 12,\n",
              "  \"num_hidden_layers\": 12,\n",
              "  \"pad_token_id\": 0,\n",
              "  \"position_embedding_type\": \"absolute\",\n",
              "  \"transformers_version\": \"4.30.2\",\n",
              "  \"type_vocab_size\": 2,\n",
              "  \"use_cache\": true,\n",
              "  \"vocab_size\": 28996\n",
              "}"
            ]
          },
          "metadata": {},
          "execution_count": 19
        }
      ]
    },
    {
      "cell_type": "code",
      "source": [
        "class SentimentModel(nn.Module):\n",
        "    def __init__(self,n_class):\n",
        "        super(SentimentModel,self).__init__()\n",
        "        self.bert = BertModel.from_pretrained('bert-base-cased')\n",
        "        self.dropout = nn.Dropout(0.5)\n",
        "        self.output = nn.Linear(self.bert.config.to_dict()['hidden_size'],n_class)\n",
        "\n",
        "    def forward(self,input_ids,attention_mask):\n",
        "        _,pooled_out = self.bert(input_ids = input_ids,attention_mask = attention_mask,return_dict=False)\n",
        "        out = self.dropout(pooled_out)\n",
        "        return self.output(out)\n",
        ""
      ],
      "metadata": {
        "id": "9WpBX26N0g4P"
      },
      "id": "9WpBX26N0g4P",
      "execution_count": 20,
      "outputs": []
    },
    {
      "cell_type": "markdown",
      "source": [
        "### Optimizer and Learning Rate Scheduler"
      ],
      "metadata": {
        "id": "OVwLc0nc7-wQ"
      },
      "id": "OVwLc0nc7-wQ"
    },
    {
      "cell_type": "code",
      "source": [
        "from transformers import AdamW,get_linear_schedule_with_warmup\n",
        "epoch = 10\n",
        "n_class = 3\n",
        "learnng_rate = 5e-5\n",
        "model = SentimentModel(3)\n",
        "model.to(device)\n",
        "# create optimizer\n",
        "optimizer = AdamW(model.parameters(),lr = learnng_rate)\n",
        "total_train_step = len(train_dataloader) * epoch\n",
        "\n",
        "# create learning rate schedular\n",
        "schedular = get_linear_schedule_with_warmup(\n",
        "    optimizer,\n",
        "    num_warmup_steps = 0,\n",
        "    num_training_steps = total_train_step\n",
        ")\n",
        "loss_fun = nn.CrossEntropyLoss().to(device)"
      ],
      "metadata": {
        "colab": {
          "base_uri": "https://localhost:8080/"
        },
        "id": "jVcg993V0jTP",
        "outputId": "2edd1831-b4e0-4975-a1c3-6dadb7615aa6"
      },
      "id": "jVcg993V0jTP",
      "execution_count": 21,
      "outputs": [
        {
          "output_type": "stream",
          "name": "stderr",
          "text": [
            "Some weights of the model checkpoint at bert-base-cased were not used when initializing BertModel: ['cls.predictions.transform.LayerNorm.bias', 'cls.predictions.transform.dense.bias', 'cls.seq_relationship.bias', 'cls.predictions.transform.dense.weight', 'cls.predictions.bias', 'cls.seq_relationship.weight', 'cls.predictions.transform.LayerNorm.weight']\n",
            "- This IS expected if you are initializing BertModel from the checkpoint of a model trained on another task or with another architecture (e.g. initializing a BertForSequenceClassification model from a BertForPreTraining model).\n",
            "- This IS NOT expected if you are initializing BertModel from the checkpoint of a model that you expect to be exactly identical (initializing a BertForSequenceClassification model from a BertForSequenceClassification model).\n"
          ]
        }
      ]
    },
    {
      "cell_type": "markdown",
      "source": [
        "### Training Loop"
      ],
      "metadata": {
        "id": "kMksuQ3x_Z5W"
      },
      "id": "kMksuQ3x_Z5W"
    },
    {
      "cell_type": "code",
      "source": [
        "def train(model,train_dataloader,optimizer,schedular,n_examples):\n",
        "    torch.cuda.empty_cache()\n",
        "    correct_classify = 0\n",
        "    losses = []\n",
        "    model = model.train()\n",
        "    for data in train_dataloader:\n",
        "        input_ids = data['input_ids'].to(device)\n",
        "        attention_mask = data['attention_mask'].to(device)\n",
        "        actual_label = data['label'].to(device)\n",
        "        output = model(input_ids,attention_mask)\n",
        "        _,pred = torch.max(output,axis=1)\n",
        "        loss = loss_fun(output,actual_label)\n",
        "        correct_classify += torch.sum(pred==actual_label)\n",
        "        losses.append(loss.item())\n",
        "\n",
        "        loss.backward()\n",
        "\n",
        "        nn.utils.clip_grad_norm_(model.parameters(), max_norm=1.0)\n",
        "\n",
        "        optimizer.step()\n",
        "        schedular.step()\n",
        "        optimizer.zero_grad()\n",
        "    return correct_classify.double() / n_examples, np.mean(losses)"
      ],
      "metadata": {
        "id": "K9XyaEqv9LGl"
      },
      "id": "K9XyaEqv9LGl",
      "execution_count": 22,
      "outputs": []
    },
    {
      "cell_type": "code",
      "source": [
        "def eval_model(model,val_dataloader,optimizer,schedular,n_examples):\n",
        "    torch.cuda.empty_cache()\n",
        "    correct_classify = 0\n",
        "    losses = []\n",
        "    with torch.no_grad():\n",
        "        for data in val_dataloader:\n",
        "            input_ids = data['input_ids'].to(device)\n",
        "            attention_mask = data['attention_mask'].to(device)\n",
        "            actual_label = data['label'].to(device)\n",
        "            output = model(input_ids,attention_mask)\n",
        "            _,pred = torch.max(output,axis=1)\n",
        "            loss = loss_fun(output,actual_label)\n",
        "            correct_classify += torch.sum(pred==actual_label)\n",
        "            losses.append(loss.item())\n",
        "\n",
        "    return correct_classify.double() / n_examples, np.mean(losses)"
      ],
      "metadata": {
        "id": "9R_D983a9y89"
      },
      "id": "9R_D983a9y89",
      "execution_count": 23,
      "outputs": []
    },
    {
      "cell_type": "code",
      "source": [
        "from collections import defaultdict\n",
        "history = defaultdict(list)\n",
        "for epoch in range(2):\n",
        "    print(\"Epoch \",epoch+1)\n",
        "    print('='*10)\n",
        "    train_acc,train_loss = train(model,train_dataloader,optimizer,schedular,len(train_dataloader))\n",
        "    val_acc,val_loss = train(model,val_dataloader,optimizer,schedular,len(val_dataloader))\n",
        "    history['train_accuracy'].append(train_acc)\n",
        "    history['train_loss'].append(train_loss)\n",
        "    history['val_accuracy'].append(val_acc)\n",
        "    history['val_loss'].append(val_loss)\n",
        "    print(\"train loss: \",train_loss,'    train accuracy',train_acc )\n",
        "    print(\"validation loss: \",val_loss,'    validation accuracy',val_acc )\n"
      ],
      "metadata": {
        "colab": {
          "base_uri": "https://localhost:8080/"
        },
        "id": "ZfY62kieFiyq",
        "outputId": "15f3ea03-02db-440e-dc4d-b989d04e574b"
      },
      "id": "ZfY62kieFiyq",
      "execution_count": null,
      "outputs": [
        {
          "output_type": "stream",
          "name": "stdout",
          "text": [
            "Epoch  1\n",
            "==========\n"
          ]
        }
      ]
    },
    {
      "cell_type": "code",
      "source": [],
      "metadata": {
        "id": "r-_w1rcrJJwY"
      },
      "id": "r-_w1rcrJJwY",
      "execution_count": 42,
      "outputs": []
    },
    {
      "cell_type": "code",
      "source": [],
      "metadata": {
        "id": "8RatVVJTNgnX"
      },
      "id": "8RatVVJTNgnX",
      "execution_count": null,
      "outputs": []
    },
    {
      "cell_type": "code",
      "source": [],
      "metadata": {
        "id": "wmbZZh7qUdV8"
      },
      "id": "wmbZZh7qUdV8",
      "execution_count": 25,
      "outputs": []
    }
  ],
  "metadata": {
    "kernelspec": {
      "display_name": "Python 3",
      "name": "python3"
    },
    "language_info": {
      "codemirror_mode": {
        "name": "ipython",
        "version": 3
      },
      "file_extension": ".py",
      "mimetype": "text/x-python",
      "name": "python",
      "nbconvert_exporter": "python",
      "pygments_lexer": "ipython3",
      "version": "3.10.9"
    },
    "colab": {
      "provenance": [],
      "gpuType": "T4",
      "include_colab_link": true
    },
    "accelerator": "GPU"
  },
  "nbformat": 4,
  "nbformat_minor": 5
}