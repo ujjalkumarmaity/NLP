{
 "cells": [
  {
   "cell_type": "markdown",
   "id": "03bd9ceb",
   "metadata": {},
   "source": [
    "## BERT (Bidirectional Encoder Representations from Transformers)\n",
    "- \n",
    "\n",
    "\n",
    "\n",
    "#### BERT NLP Application\n",
    "- Google Search\n",
    "- Sentiment Analysis\n",
    "- Language Translation\n",
    "- Text Summarization\n",
    "- Question Answering\n",
    "- Highlighting paragraphs"
   ]
  },
  {
   "cell_type": "markdown",
   "id": "917731b0",
   "metadata": {},
   "source": [
    "### Reference\n",
    "http://jalammar.github.io/illustrated-bert/"
   ]
  },
  {
   "cell_type": "code",
   "execution_count": null,
   "id": "7ff118b6",
   "metadata": {},
   "outputs": [],
   "source": []
  },
  {
   "cell_type": "code",
   "execution_count": 2,
   "id": "c4969c0a",
   "metadata": {},
   "outputs": [],
   "source": [
    "import transformers"
   ]
  },
  {
   "cell_type": "code",
   "execution_count": null,
   "id": "2a4d152c",
   "metadata": {},
   "outputs": [],
   "source": []
  }
 ],
 "metadata": {
  "kernelspec": {
   "display_name": "Python 3 (ipykernel)",
   "language": "python",
   "name": "python3"
  },
  "language_info": {
   "codemirror_mode": {
    "name": "ipython",
    "version": 3
   },
   "file_extension": ".py",
   "mimetype": "text/x-python",
   "name": "python",
   "nbconvert_exporter": "python",
   "pygments_lexer": "ipython3",
   "version": "3.10.9"
  }
 },
 "nbformat": 4,
 "nbformat_minor": 5
}
