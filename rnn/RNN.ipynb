{
 "cells": [
  {
   "cell_type": "markdown",
   "id": "d8f90a3d",
   "metadata": {},
   "source": [
    "---\n",
    "title: \"RNN (Recurrent Neural Network)\"\n",
    "description: \"Text generation with RNN\"\n",
    "author: \"ujjal\"\n",
    "date: \"6/27/2023\"\n",
    "categories:\n",
    "  - RNN\n",
    "  - python\n",
    "---"
   ]
  },
  {
   "cell_type": "markdown",
   "id": "a7ab411d",
   "metadata": {},
   "source": [
    "## RNN (Recurrent Neural Network)\n",
    "- A RNN is a type of artificial neural network which uses sequential data or time series data\n",
    "- A RNN is a several copy of same neural network that are aligned togther and each one passes its output to the next one\n",
    "- Each copy call timestep because it receives different input at different time step \n",
    "- RNN are call recurrent because they perform the same task for every element of a sequence.\n",
    "- RNN have a memory which capture information about what has been calculated so far\n",
    "#### Application\n",
    "- Rnn are used for time series analysis\n",
    "- when we need to make a predction based on previous data, not only current data\n",
    "\n",
    "#### Problems of standard network:\n",
    "- Inputs, outputs can be different lengths in different examples.\n",
    "- Doesn’t share features learned across different positions of text. \n",
    "\n",
    "#### Types of RNN:\n",
    "- one-to-one\n",
    "- one-to-many\n",
    "- many-to-one\n",
    "- many-to-many\n",
    "<img src='https://www.ibm.com/content/dam/connectedassets-adobe-cms/worldwide-content/cdp/cf/ul/g/ba/82/types-of-recurrent-neural-networks-combined.component.simple-narrative-l.ts=1681483684972.jpg/content/adobe-cms/us/en/topics/recurrent-neural-networks/jcr:content/root/table_of_contents/body/simple_narrative_1474352927/image'>\n",
    "\n"
   ]
  },
  {
   "attachments": {},
   "cell_type": "markdown",
   "id": "fb6129f2",
   "metadata": {},
   "source": [
    "#### Unfolding RNN\n",
    "<img src='unfloding.png'>"
   ]
  },
  {
   "attachments": {},
   "cell_type": "markdown",
   "id": "d32e0434",
   "metadata": {},
   "source": [
    "### RNN backpropagation through time\n",
    "\n",
    "##### forward pass\n",
    "\n",
    "<img src = 'rnn_f_pass.png'>"
   ]
  },
  {
   "attachments": {},
   "cell_type": "markdown",
   "id": "411e1ac0",
   "metadata": {},
   "source": [
    "##### Backword pass\n",
    "\n",
    "The BPTT algorithm is used to calculate the gradients of the loss with respect to the parameters of the RNN\n",
    "<img src='rnn_bptt.png'>\n",
    "\n",
    "first calculate gradient with respect to ($w_0$)  \n",
    "$$\\frac{\\mathrm{d}E_1}{\\mathrm{d}W_0} = \\frac{\\mathrm{d}E_1}{\\mathrm{d}y_1} \\frac{\\mathrm{d}y_1}{\\mathrm{d}W_0}$$\n",
    "$$\\frac{\\mathrm{d}E_2}{\\mathrm{d}W_0} = \\frac{\\mathrm{d}E_2}{\\mathrm{d}y_2} \\frac{\\mathrm{d}y_2}{\\mathrm{d}W_0}$$\n",
    "$$\\frac{\\mathrm{d}E_3}{\\mathrm{d}W_0} = \\frac{\\mathrm{d}E_3}{\\mathrm{d}y_3} \\frac{\\mathrm{d}y_3}{\\mathrm{d}W_0}$$\n",
    "$$\\frac{\\mathrm{d}E_4}{\\mathrm{d}W_0} = \\frac{\\mathrm{d}E_4}{\\mathrm{d}y_4} \\frac{\\mathrm{d}y_4}{\\mathrm{d}W_0}$$\n",
    "\n",
    "All RNN unit have same weights\n",
    "\n",
    "calculate gradient with respect to recurrent weights($w_h$) \n",
    "\n",
    "$$\\frac{\\mathrm{d}E_1}{\\mathrm{d}W_h} = \\frac{\\mathrm{d}E_1}{\\mathrm{d}y_1} \\frac{\\mathrm{d}y_1}{\\mathrm{d}h_1}  \\frac{\\mathrm{d}h_1}{\\mathrm{d}W_h}$$\n",
    "$$\\frac{\\mathrm{d}E_2}{\\mathrm{d}W_h} = \\frac{\\mathrm{d}E_2}{\\mathrm{d}y_2} \\frac{\\mathrm{d}y_2}{\\mathrm{d}h_2}  \\frac{\\mathrm{d}h_2}{\\mathrm{d}W_h}$$\n",
    "we know in RNN current recurrent unit depedent on previous recurrent unit. so $h_2$ depedent on $h_1$. so the formula is-\n",
    "$$\\frac{\\mathrm{d}E_2}{\\mathrm{d}W_h} =  \\frac{\\mathrm{d}E_2}{\\mathrm{d}y_2} \\frac{\\mathrm{d}y_2}{\\mathrm{d}h_2}  \\frac{\\mathrm{d}h_2}{\\mathrm{d}h_1} \\frac{\\mathrm{d}h_1}{\\mathrm{d}w_h} + \\frac{\\mathrm{d}E_2}{\\mathrm{d}y_2} \\frac{\\mathrm{d}y_2}{\\mathrm{d}h_2}  \\frac{\\mathrm{d}h_2}{\\mathrm{d}W_h}$$\n",
    "similar\n",
    "$$\\frac{\\mathrm{d}E_3}{\\mathrm{d}W_h} =  \\frac{\\mathrm{d}E_3}{\\mathrm{d}y_3} \\frac{\\mathrm{d}y_3}{\\mathrm{d}h_3}  \\frac{\\mathrm{d}h_3}{\\mathrm{d}w_h} + \\frac{\\mathrm{d}E_3}{\\mathrm{d}y_3} \\frac{\\mathrm{d}y_3}{\\mathrm{d}h_3}  \\frac{\\mathrm{d}h_3}{\\mathrm{d}h_2} \\frac{\\mathrm{d}h_2}{\\mathrm{d}w_h} +  \\frac{\\mathrm{d}E_3}{\\mathrm{d}y_3} \\frac{\\mathrm{d}y_3}{\\mathrm{d}h_3}  \\frac{\\mathrm{d}h_3}{\\mathrm{d}h_2} \\frac{\\mathrm{d}h_2}{\\mathrm{d}h_1} \\frac{\\mathrm{d}h_1}{\\mathrm{d}w_h}$$"
   ]
  },
  {
   "cell_type": "markdown",
   "id": "cd7b9ab1",
   "metadata": {},
   "source": [
    "### Stacking RNN Layers\n",
    "- The output of the first RNN is passed to another RNN. Therefore the top-RNN receives the hidden state of the first RNN\n"
   ]
  },
  {
   "attachments": {},
   "cell_type": "markdown",
   "id": "489c5ec8",
   "metadata": {},
   "source": [
    "### Challenges in RNN\n",
    "1. **Vanising Gradient** - gradient can be very low. It refers to the issue where the gradients calculated during backpropagation become extremely small as they are propagated backward through time, leading to very slow or ineffective learning.\n",
    "\n",
    "##### The vanishing gradient problem can have several consequences:\n",
    "- **Difficulty in Capturing Long-Term Dependencies**: RNNs are designed to capture dependencies over long sequences. However, when the gradients vanish, the network struggles to propagate information over many time steps, limiting its ability to capture long-term dependencies\n",
    "- **Slow Learning**:  With vanishing gradients, the network learns at a slow pace since the weight updates in the early layers are negligible\n",
    "$$\\frac{\\mathrm{d}E_3}{\\mathrm{d}W_h} =   \\frac{\\mathrm{d}E_3}{\\mathrm{d}y_3} \\frac{\\mathrm{d}y_3}{\\mathrm{d}h_3}  \\frac{\\mathrm{d}h_3}{\\mathrm{d}h_2} \\frac{\\mathrm{d}h_2}{\\mathrm{d}h_1} \\frac{\\mathrm{d}h_1}{\\mathrm{d}w_h} +....+$$\n",
    "lets $$\\frac{\\mathrm{d}E_3}{\\mathrm{d}y_3} = 0.3    \\frac{\\mathrm{d}y_3}{\\mathrm{d}h_3}=0.2    \\frac{\\mathrm{d}h_3}{\\mathrm{d}h_2} = 0.5   \\frac{\\mathrm{d}h_2}{\\mathrm{d}h_1} = 0.08    \\frac{\\mathrm{d}y_1}{\\mathrm{d}w_h}=0.01$$\n",
    "\n",
    "So $\\frac{\\mathrm{d}E_3}{\\mathrm{d}W_h} = 0.3*0.2*0.5*0.08*0.01 = 0.0002$  almost 0 \n",
    "\n",
    "2. **Exploding Gradient** - Gradient can be very large , cause the loss and weiget update to heavily fluctuate\n",
    "<img src='e_gradient.png'>\n",
    "\n",
    "##### Solution for Exploding Gradient problem\n",
    "- **Gradient Clipping**: clip the Gradient to spacific value the exceed a spacific threshold\n",
    "if gradients exceed to 5, then clip to 0.2"
   ]
  },
  {
   "cell_type": "code",
   "execution_count": 1,
   "id": "7db6e5f5",
   "metadata": {},
   "outputs": [],
   "source": [
    "import torch\n",
    "import torch.nn as nn\n",
    "import numpy as np"
   ]
  },
  {
   "cell_type": "code",
   "execution_count": 38,
   "id": "7bd32cae",
   "metadata": {},
   "outputs": [],
   "source": [
    "class DictnaryEmbd(object):\n",
    "    def __init__(self):\n",
    "        self.idx = 0\n",
    "        self.idx2word = {}\n",
    "        self.word2idx = {}\n",
    "    def addword(self,word):\n",
    "        if word not in self.word2idx:\n",
    "            self.idx2word[self.idx] = word\n",
    "            self.word2idx[word] = self.idx\n",
    "            self.idx += 1\n",
    "    def __len__(self):\n",
    "        return len(self.word2idx)\n",
    "\n",
    "class Textpreprocess(object):\n",
    "    def __init__(self):\n",
    "        self.dict_embd = DictnaryEmbd()\n",
    "    def get_data(self,file_path,batch_size):\n",
    "        len_word = 0\n",
    "        with open(file_path,'r') as f:\n",
    "            for line in f:\n",
    "                words = line.split() + ['<eos>']\n",
    "                for w in words:\n",
    "                    self.dict_embd.addword(w)\n",
    "                    len_word += 1\n",
    "        tensor = torch.LongTensor(len_word)\n",
    "        with open(file_path,'r') as f:\n",
    "            ind = 0\n",
    "            for line in f:\n",
    "                words = line.split() + ['<eos>']\n",
    "                for w in words:\n",
    "                    tensor[ind] = self.dict_embd.word2idx[w]\n",
    "#         print(tensor.shape)\n",
    "        num_batches = tensor.shape[0]//batch_size\n",
    "        tensor = tensor[:batch_size*num_batches]\n",
    "        tensor= tensor.view(batch_size,-1)\n",
    "        return tensor"
   ]
  },
  {
   "cell_type": "code",
   "execution_count": 41,
   "id": "104f7c5d",
   "metadata": {},
   "outputs": [
    {
     "data": {
      "text/plain": [
       "torch.Size([20, 1484])"
      ]
     },
     "execution_count": 41,
     "metadata": {},
     "output_type": "execute_result"
    }
   ],
   "source": [
    "corpus = Textpreprocess()\n",
    "tensor = corpus.get_data('alice.txt',20)\n",
    "tensor.shape"
   ]
  },
  {
   "cell_type": "code",
   "execution_count": null,
   "id": "735e5283",
   "metadata": {},
   "outputs": [],
   "source": []
  },
  {
   "cell_type": "code",
   "execution_count": 21,
   "id": "b036e883",
   "metadata": {},
   "outputs": [],
   "source": [
    "embed_size = 128   \n",
    "hidden_size = 1024 \n",
    "num_layers = 1\n",
    "num_epochs = 20\n",
    "batch_size = 20\n",
    "timesteps = 30\n",
    "learning_rate = 0.002\n"
   ]
  },
  {
   "cell_type": "code",
   "execution_count": 22,
   "id": "7a4d7270",
   "metadata": {},
   "outputs": [],
   "source": []
  },
  {
   "cell_type": "code",
   "execution_count": null,
   "id": "c7c16698",
   "metadata": {},
   "outputs": [],
   "source": []
  },
  {
   "cell_type": "code",
   "execution_count": null,
   "id": "ab4ca256",
   "metadata": {},
   "outputs": [],
   "source": []
  },
  {
   "cell_type": "code",
   "execution_count": null,
   "id": "7550338f",
   "metadata": {},
   "outputs": [],
   "source": []
  },
  {
   "cell_type": "code",
   "execution_count": null,
   "id": "f527bf84",
   "metadata": {},
   "outputs": [],
   "source": []
  },
  {
   "cell_type": "code",
   "execution_count": null,
   "id": "0e6628be",
   "metadata": {},
   "outputs": [],
   "source": []
  }
 ],
 "metadata": {
  "kernelspec": {
   "display_name": "Python 3 (ipykernel)",
   "language": "python",
   "name": "python3"
  },
  "language_info": {
   "codemirror_mode": {
    "name": "ipython",
    "version": 3
   },
   "file_extension": ".py",
   "mimetype": "text/x-python",
   "name": "python",
   "nbconvert_exporter": "python",
   "pygments_lexer": "ipython3",
   "version": "3.10.9"
  }
 },
 "nbformat": 4,
 "nbformat_minor": 5
}
