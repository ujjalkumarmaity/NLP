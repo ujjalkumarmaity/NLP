{
 "cells": [
  {
   "cell_type": "markdown",
   "id": "4cbd1f5c",
   "metadata": {},
   "source": [
    "A sequence-to-sequence model is a model that takes a sequence of items (words, letters, features of an images…etc) and outputs another sequence of items."
   ]
  },
  {
   "cell_type": "markdown",
   "id": "1a2b6f9f",
   "metadata": {},
   "source": [
    "The encoder processes each item in the input sequence, **it compiles the information it captures into a vector** (called the **context**). After processing the entire input sequence, the encoder sends the context over to the decoder, which begins producing the output sequence item by item.\n",
    "\n"
   ]
  },
  {
   "cell_type": "markdown",
   "id": "d981b4c1",
   "metadata": {},
   "source": [
    "You can set the size of the context vector when you set up your model. It is basically the number of hidden units in the encoder RNN. In real world applications the context vector would be of a size like 256, 512, or 1024."
   ]
  },
  {
   "cell_type": "markdown",
   "id": "96e3f865",
   "metadata": {},
   "source": []
  },
  {
   "cell_type": "markdown",
   "id": "33366ad4",
   "metadata": {},
   "source": []
  },
  {
   "cell_type": "code",
   "execution_count": null,
   "id": "42d4ba83",
   "metadata": {},
   "outputs": [],
   "source": []
  }
 ],
 "metadata": {
  "kernelspec": {
   "display_name": "Python 3 (ipykernel)",
   "language": "python",
   "name": "python3"
  },
  "language_info": {
   "codemirror_mode": {
    "name": "ipython",
    "version": 3
   },
   "file_extension": ".py",
   "mimetype": "text/x-python",
   "name": "python",
   "nbconvert_exporter": "python",
   "pygments_lexer": "ipython3",
   "version": "3.10.9"
  }
 },
 "nbformat": 4,
 "nbformat_minor": 5
}
