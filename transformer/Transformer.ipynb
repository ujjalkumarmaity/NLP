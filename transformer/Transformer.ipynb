{
 "cells": [
  {
   "cell_type": "markdown",
   "id": "c54189b2",
   "metadata": {},
   "source": [
    "https://jalammar.github.io/illustrated-transformer\n",
    "\n",
    "http://nlp.seas.harvard.edu/2018/04/03/attention.html"
   ]
  },
  {
   "cell_type": "markdown",
   "id": "bbc7a49c",
   "metadata": {},
   "source": [
    "## Transformer\n",
    "- Transformer model is based on the encoder-decoder architecture.\n",
    "- Transformers are semi-supervised machine learning models that are primarily used with text data and have replaced recurrent neural networks in natural language processing tasks.\n",
    "- Transformers are based on attention and don't require any sequential computation per layer, only a single step is needed.\n",
    "\n",
    "\n",
    "\n",
    "\n",
    "##### State of the Art Transformers -\n",
    "- GPT-2 : Generative pre-training for transformers\n",
    "- BERT-  Bidirectional  Encoder Representations from Transformer . It is used for text representation\n",
    "- T5 :- text-to-text transfer transformer. It is used for question answering.\n"
   ]
  },
  {
   "cell_type": "markdown",
   "id": "6d173cc4",
   "metadata": {},
   "source": [
    "### Transformer Model Architecture\n",
    "<img src = 'https://cdn.analyticsvidhya.com/wp-content/uploads/2019/06/Screenshot-from-2019-06-17-19-53-10.png'>"
   ]
  },
  {
   "cell_type": "markdown",
   "id": "afd313d3",
   "metadata": {},
   "source": [
    "**Transformer model is based on the encoder-decoder architecture.**\n",
    "<img heightt = 400 width = 400 src = 'https://jalammar.github.io/images/t/The_transformer_encoders_decoders.png'>\n",
    "\n",
    "**Encoder Component is a stack of encoder (6 encoder on top of each other).**\n",
    "\n",
    "**similar Decoder Component is a stack of decoder**\n"
   ]
  },
  {
   "cell_type": "markdown",
   "id": "779abcf8",
   "metadata": {},
   "source": []
  },
  {
   "cell_type": "markdown",
   "id": "bc98d82a",
   "metadata": {},
   "source": []
  }
 ],
 "metadata": {
  "kernelspec": {
   "display_name": "Python 3 (ipykernel)",
   "language": "python",
   "name": "python3"
  },
  "language_info": {
   "codemirror_mode": {
    "name": "ipython",
    "version": 3
   },
   "file_extension": ".py",
   "mimetype": "text/x-python",
   "name": "python",
   "nbconvert_exporter": "python",
   "pygments_lexer": "ipython3",
   "version": "3.10.9"
  }
 },
 "nbformat": 4,
 "nbformat_minor": 5
}
