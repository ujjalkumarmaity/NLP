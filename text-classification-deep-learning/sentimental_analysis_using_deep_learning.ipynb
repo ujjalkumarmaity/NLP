{
  "nbformat": 4,
  "nbformat_minor": 0,
  "metadata": {
    "colab": {
      "provenance": [],
      "collapsed_sections": [
        "JpkQcWP6XHjb",
        "MeEz0kOgXRar",
        "eIRmnAwsjRim"
      ]
    },
    "kernelspec": {
      "name": "python3",
      "display_name": "Python 3"
    },
    "language_info": {
      "name": "python"
    }
  },
  "cells": [
    {
      "cell_type": "markdown",
      "source": [
        "## Import Module"
      ],
      "metadata": {
        "id": "iYnTRul4W1yz"
      }
    },
    {
      "cell_type": "code",
      "execution_count": 91,
      "metadata": {
        "id": "iA0Pbiw5VZto"
      },
      "outputs": [],
      "source": [
        "import tensorflow as tf\n",
        "import spacy\n",
        "import pandas as pd,numpy as np\n",
        "import re\n",
        "from sklearn.model_selection import train_test_split\n",
        "from sklearn.metrics import accuracy_score,ConfusionMatrixDisplay,confusion_matrix\n",
        "import keras\n",
        "from keras.models import Sequential\n",
        "from keras import layers\n",
        "import matplotlib.pyplot as plt"
      ]
    },
    {
      "cell_type": "code",
      "source": [
        "!python -m spacy download en_core_web_lg"
      ],
      "metadata": {
        "id": "8eEIl8HWWE_9"
      },
      "execution_count": null,
      "outputs": []
    },
    {
      "cell_type": "code",
      "source": [
        "nlp = spacy.load('en_core_web_lg')"
      ],
      "metadata": {
        "id": "qzqKkd4BVgWE"
      },
      "execution_count": 7,
      "outputs": []
    },
    {
      "cell_type": "markdown",
      "source": [
        "## Load dataset"
      ],
      "metadata": {
        "id": "JpkQcWP6XHjb"
      }
    },
    {
      "cell_type": "code",
      "source": [
        "df = pd.read_csv('https://raw.githubusercontent.com/laxmimerit/NLP-Tutorial-8---Sentiment-Classification-using-SpaCy-for-IMDB-and-Amazon-Review-Dataset/master/datasets/imdb_labelled.txt', sep = '\\t', header = None)\n",
        "df = df.rename(columns = {0:'text',1:\"seniment\"})\n",
        "df.head(2)"
      ],
      "metadata": {
        "colab": {
          "base_uri": "https://localhost:8080/",
          "height": 112
        },
        "id": "w9VBairiV_CD",
        "outputId": "e08fd7bc-d615-4ad1-ac4b-2027d2ebb4bf"
      },
      "execution_count": 31,
      "outputs": [
        {
          "output_type": "execute_result",
          "data": {
            "text/plain": [
              "                                                text  seniment\n",
              "0  A very, very, very slow-moving, aimless movie ...         0\n",
              "1  Not sure who was more lost - the flat characte...         0"
            ],
            "text/html": [
              "\n",
              "  <div id=\"df-64f4f0d2-3a63-4680-8f51-0e9be77e4903\">\n",
              "    <div class=\"colab-df-container\">\n",
              "      <div>\n",
              "<style scoped>\n",
              "    .dataframe tbody tr th:only-of-type {\n",
              "        vertical-align: middle;\n",
              "    }\n",
              "\n",
              "    .dataframe tbody tr th {\n",
              "        vertical-align: top;\n",
              "    }\n",
              "\n",
              "    .dataframe thead th {\n",
              "        text-align: right;\n",
              "    }\n",
              "</style>\n",
              "<table border=\"1\" class=\"dataframe\">\n",
              "  <thead>\n",
              "    <tr style=\"text-align: right;\">\n",
              "      <th></th>\n",
              "      <th>text</th>\n",
              "      <th>seniment</th>\n",
              "    </tr>\n",
              "  </thead>\n",
              "  <tbody>\n",
              "    <tr>\n",
              "      <th>0</th>\n",
              "      <td>A very, very, very slow-moving, aimless movie ...</td>\n",
              "      <td>0</td>\n",
              "    </tr>\n",
              "    <tr>\n",
              "      <th>1</th>\n",
              "      <td>Not sure who was more lost - the flat characte...</td>\n",
              "      <td>0</td>\n",
              "    </tr>\n",
              "  </tbody>\n",
              "</table>\n",
              "</div>\n",
              "      <button class=\"colab-df-convert\" onclick=\"convertToInteractive('df-64f4f0d2-3a63-4680-8f51-0e9be77e4903')\"\n",
              "              title=\"Convert this dataframe to an interactive table.\"\n",
              "              style=\"display:none;\">\n",
              "        \n",
              "  <svg xmlns=\"http://www.w3.org/2000/svg\" height=\"24px\"viewBox=\"0 0 24 24\"\n",
              "       width=\"24px\">\n",
              "    <path d=\"M0 0h24v24H0V0z\" fill=\"none\"/>\n",
              "    <path d=\"M18.56 5.44l.94 2.06.94-2.06 2.06-.94-2.06-.94-.94-2.06-.94 2.06-2.06.94zm-11 1L8.5 8.5l.94-2.06 2.06-.94-2.06-.94L8.5 2.5l-.94 2.06-2.06.94zm10 10l.94 2.06.94-2.06 2.06-.94-2.06-.94-.94-2.06-.94 2.06-2.06.94z\"/><path d=\"M17.41 7.96l-1.37-1.37c-.4-.4-.92-.59-1.43-.59-.52 0-1.04.2-1.43.59L10.3 9.45l-7.72 7.72c-.78.78-.78 2.05 0 2.83L4 21.41c.39.39.9.59 1.41.59.51 0 1.02-.2 1.41-.59l7.78-7.78 2.81-2.81c.8-.78.8-2.07 0-2.86zM5.41 20L4 18.59l7.72-7.72 1.47 1.35L5.41 20z\"/>\n",
              "  </svg>\n",
              "      </button>\n",
              "      \n",
              "  <style>\n",
              "    .colab-df-container {\n",
              "      display:flex;\n",
              "      flex-wrap:wrap;\n",
              "      gap: 12px;\n",
              "    }\n",
              "\n",
              "    .colab-df-convert {\n",
              "      background-color: #E8F0FE;\n",
              "      border: none;\n",
              "      border-radius: 50%;\n",
              "      cursor: pointer;\n",
              "      display: none;\n",
              "      fill: #1967D2;\n",
              "      height: 32px;\n",
              "      padding: 0 0 0 0;\n",
              "      width: 32px;\n",
              "    }\n",
              "\n",
              "    .colab-df-convert:hover {\n",
              "      background-color: #E2EBFA;\n",
              "      box-shadow: 0px 1px 2px rgba(60, 64, 67, 0.3), 0px 1px 3px 1px rgba(60, 64, 67, 0.15);\n",
              "      fill: #174EA6;\n",
              "    }\n",
              "\n",
              "    [theme=dark] .colab-df-convert {\n",
              "      background-color: #3B4455;\n",
              "      fill: #D2E3FC;\n",
              "    }\n",
              "\n",
              "    [theme=dark] .colab-df-convert:hover {\n",
              "      background-color: #434B5C;\n",
              "      box-shadow: 0px 1px 3px 1px rgba(0, 0, 0, 0.15);\n",
              "      filter: drop-shadow(0px 1px 2px rgba(0, 0, 0, 0.3));\n",
              "      fill: #FFFFFF;\n",
              "    }\n",
              "  </style>\n",
              "\n",
              "      <script>\n",
              "        const buttonEl =\n",
              "          document.querySelector('#df-64f4f0d2-3a63-4680-8f51-0e9be77e4903 button.colab-df-convert');\n",
              "        buttonEl.style.display =\n",
              "          google.colab.kernel.accessAllowed ? 'block' : 'none';\n",
              "\n",
              "        async function convertToInteractive(key) {\n",
              "          const element = document.querySelector('#df-64f4f0d2-3a63-4680-8f51-0e9be77e4903');\n",
              "          const dataTable =\n",
              "            await google.colab.kernel.invokeFunction('convertToInteractive',\n",
              "                                                     [key], {});\n",
              "          if (!dataTable) return;\n",
              "\n",
              "          const docLinkHtml = 'Like what you see? Visit the ' +\n",
              "            '<a target=\"_blank\" href=https://colab.research.google.com/notebooks/data_table.ipynb>data table notebook</a>'\n",
              "            + ' to learn more about interactive tables.';\n",
              "          element.innerHTML = '';\n",
              "          dataTable['output_type'] = 'display_data';\n",
              "          await google.colab.output.renderOutput(dataTable, element);\n",
              "          const docLink = document.createElement('div');\n",
              "          docLink.innerHTML = docLinkHtml;\n",
              "          element.appendChild(docLink);\n",
              "        }\n",
              "      </script>\n",
              "    </div>\n",
              "  </div>\n",
              "  "
            ]
          },
          "metadata": {},
          "execution_count": 31
        }
      ]
    },
    {
      "cell_type": "code",
      "source": [
        "df.isna().sum()"
      ],
      "metadata": {
        "colab": {
          "base_uri": "https://localhost:8080/"
        },
        "id": "KLgFJ60nWvPq",
        "outputId": "1fb6d26a-359e-4a1c-a3ab-c6587722f2f5"
      },
      "execution_count": 32,
      "outputs": [
        {
          "output_type": "execute_result",
          "data": {
            "text/plain": [
              "text        0\n",
              "seniment    0\n",
              "dtype: int64"
            ]
          },
          "metadata": {},
          "execution_count": 32
        }
      ]
    },
    {
      "cell_type": "markdown",
      "source": [
        "## Text pre-processing"
      ],
      "metadata": {
        "id": "MeEz0kOgXRar"
      }
    },
    {
      "cell_type": "code",
      "source": [
        "stop_word = nlp.Defaults.stop_words\n",
        "def clean_text(text):\n",
        "    text = text.lower() #\n",
        "    text = re.sub(r'http\\S+','',text) # remove url\n",
        "    text = re.sub(r'[^\\w ]+', \" \", text) # remove spacial charecter\n",
        "    text = ' '.join(text.split()) # remove white space\n",
        "    text = ' '.join([i for i in text.split() if i not in stop_word]) #remove stopword\n",
        "    return text"
      ],
      "metadata": {
        "id": "nIPYEdnYXQt6"
      },
      "execution_count": 33,
      "outputs": []
    },
    {
      "cell_type": "code",
      "source": [
        "df['clean_text'] = df['text'].apply(clean_text)"
      ],
      "metadata": {
        "id": "3Lub9R5LX_qy"
      },
      "execution_count": 34,
      "outputs": []
    },
    {
      "cell_type": "markdown",
      "source": [
        "## word2vec using spacy"
      ],
      "metadata": {
        "id": "eIRmnAwsjRim"
      }
    },
    {
      "cell_type": "code",
      "source": [
        "def get_word2vec(text):\n",
        "    doc = nlp(text)\n",
        "    return doc.vector\n",
        "df['vector'] = df.clean_text.apply(get_word2vec)"
      ],
      "metadata": {
        "id": "q5yZKNlxYlHx"
      },
      "execution_count": 38,
      "outputs": []
    },
    {
      "cell_type": "code",
      "source": [
        "doc = nlp(\"Not sure who was more lost\")\n",
        "doc.vector.shape"
      ],
      "metadata": {
        "colab": {
          "base_uri": "https://localhost:8080/"
        },
        "id": "nLEDla9IZca5",
        "outputId": "a841dda0-4fe9-4660-93cf-09a74139ad92"
      },
      "execution_count": 39,
      "outputs": [
        {
          "output_type": "execute_result",
          "data": {
            "text/plain": [
              "(300,)"
            ]
          },
          "metadata": {},
          "execution_count": 39
        }
      ]
    },
    {
      "cell_type": "code",
      "source": [
        "X = np.concatenate(df['vector'].to_numpy(),axis=0).reshape(-1,300)\n",
        "y = df['seniment'].to_numpy()"
      ],
      "metadata": {
        "id": "nDhtRNhPjJFx"
      },
      "execution_count": 54,
      "outputs": []
    },
    {
      "cell_type": "markdown",
      "source": [
        "## split data"
      ],
      "metadata": {
        "id": "Dq6C42bbln18"
      }
    },
    {
      "cell_type": "code",
      "source": [
        "x_train,x_test,y_train,y_test = train_test_split(X,y,test_size=0.2,stratify=y)"
      ],
      "metadata": {
        "id": "trtTV-okj7Tl"
      },
      "execution_count": 78,
      "outputs": []
    },
    {
      "cell_type": "code",
      "source": [],
      "metadata": {
        "id": "BN3YHItvmUcE"
      },
      "execution_count": null,
      "outputs": []
    },
    {
      "cell_type": "markdown",
      "source": [
        "## Model Creation"
      ],
      "metadata": {
        "id": "Vrr_mv3hmU0O"
      }
    },
    {
      "cell_type": "code",
      "source": [
        "model = Sequential()\n",
        "model.add(layers.Dense(256,activation='relu',input_dim =X.shape[1]))\n",
        "model.add(layers.Dense(126,activation='relu'))\n",
        "model.add(layers.Dense(126,activation='relu'))\n",
        "model.add(layers.Dense(1,activation='sigmoid'))"
      ],
      "metadata": {
        "id": "TZBEUHRjkdzM"
      },
      "execution_count": 94,
      "outputs": []
    },
    {
      "cell_type": "code",
      "source": [
        "model.compile(optimizer = 'adam',loss = 'binary_crossentropy',metrics = ['accuracy'])"
      ],
      "metadata": {
        "id": "6YwchgKJmP9z"
      },
      "execution_count": 95,
      "outputs": []
    },
    {
      "cell_type": "code",
      "source": [
        "history = model.fit(x_train,y_train,batch_size=64,epochs = 10,verbose=1)"
      ],
      "metadata": {
        "colab": {
          "base_uri": "https://localhost:8080/"
        },
        "id": "W1DqGLIoqdHD",
        "outputId": "5df64520-0f40-4596-8c98-b10af4f343a6"
      },
      "execution_count": 96,
      "outputs": [
        {
          "output_type": "stream",
          "name": "stdout",
          "text": [
            "Epoch 1/10\n",
            "10/10 [==============================] - 1s 9ms/step - loss: 0.6169 - accuracy: 0.6806\n",
            "Epoch 2/10\n",
            "10/10 [==============================] - 0s 8ms/step - loss: 0.3850 - accuracy: 0.8395\n",
            "Epoch 3/10\n",
            "10/10 [==============================] - 0s 8ms/step - loss: 0.2927 - accuracy: 0.8880\n",
            "Epoch 4/10\n",
            "10/10 [==============================] - 0s 9ms/step - loss: 0.2248 - accuracy: 0.9247\n",
            "Epoch 5/10\n",
            "10/10 [==============================] - 0s 8ms/step - loss: 0.1694 - accuracy: 0.9515\n",
            "Epoch 6/10\n",
            "10/10 [==============================] - 0s 9ms/step - loss: 0.1118 - accuracy: 0.9749\n",
            "Epoch 7/10\n",
            "10/10 [==============================] - 0s 8ms/step - loss: 0.0756 - accuracy: 0.9883\n",
            "Epoch 8/10\n",
            "10/10 [==============================] - 0s 9ms/step - loss: 0.0510 - accuracy: 0.9916\n",
            "Epoch 9/10\n",
            "10/10 [==============================] - 0s 8ms/step - loss: 0.0381 - accuracy: 0.9950\n",
            "Epoch 10/10\n",
            "10/10 [==============================] - 0s 8ms/step - loss: 0.0215 - accuracy: 1.0000\n"
          ]
        }
      ]
    },
    {
      "cell_type": "code",
      "source": [
        "(((model.predict(x_test)>0.5)*1).flatten()==y_test).mean()"
      ],
      "metadata": {
        "colab": {
          "base_uri": "https://localhost:8080/"
        },
        "id": "JiI741nXrtZa",
        "outputId": "57ae8c89-0c25-4e27-8dfc-06768dc6d8f9"
      },
      "execution_count": 87,
      "outputs": [
        {
          "output_type": "stream",
          "name": "stdout",
          "text": [
            "5/5 [==============================] - 0s 3ms/step\n"
          ]
        },
        {
          "output_type": "execute_result",
          "data": {
            "text/plain": [
              "0.9533333333333334"
            ]
          },
          "metadata": {},
          "execution_count": 87
        }
      ]
    },
    {
      "cell_type": "code",
      "source": [
        "predictions = ((model.predict(x_test)>0.5)*1).flatten()\n",
        "cm = confusion_matrix(y_test, predictions, labels=[0,1])\n",
        "disp = ConfusionMatrixDisplay(confusion_matrix=cm,display_labels=[0,1])\n"
      ],
      "metadata": {
        "colab": {
          "base_uri": "https://localhost:8080/"
        },
        "id": "Ar_E8LM0sBCC",
        "outputId": "3e295a40-1e84-4119-b398-c98d195d4a58"
      },
      "execution_count": 89,
      "outputs": [
        {
          "output_type": "stream",
          "name": "stdout",
          "text": [
            "5/5 [==============================] - 0s 4ms/step\n"
          ]
        }
      ]
    },
    {
      "cell_type": "code",
      "source": [
        "disp.plot()"
      ],
      "metadata": {
        "colab": {
          "base_uri": "https://localhost:8080/",
          "height": 466
        },
        "id": "fGkqtWWrqCwi",
        "outputId": "237dde99-b257-4ed5-a91a-a11396c01efd"
      },
      "execution_count": 90,
      "outputs": [
        {
          "output_type": "execute_result",
          "data": {
            "text/plain": [
              "<sklearn.metrics._plot.confusion_matrix.ConfusionMatrixDisplay at 0x7f54f814d0f0>"
            ]
          },
          "metadata": {},
          "execution_count": 90
        },
        {
          "output_type": "display_data",
          "data": {
            "text/plain": [
              "<Figure size 640x480 with 2 Axes>"
            ],
            "image/png": "[encoded data removed]"
          },
          "metadata": {}
        }
      ]
    },
    {
      "cell_type": "code",
      "source": [
        "plt.plot(history.history['accuracy'])\n",
        "plt.title('model accuracy')\n",
        "plt.ylabel('accuracy')\n",
        "plt.xlabel('epoch')\n",
        "plt.show()\n"
      ],
      "metadata": {
        "colab": {
          "base_uri": "https://localhost:8080/",
          "height": 472
        },
        "id": "ynv6lfs_rNta",
        "outputId": "6303c394-3c85-4198-87d6-009ba3e87e08"
      },
      "execution_count": 99,
      "outputs": [
        {
          "output_type": "display_data",
          "data": {
            "text/plain": [
              "<Figure size 640x480 with 1 Axes>"
            ],
            "image/png": "[encoded data removed]"
          },
          "metadata": {}
        }
      ]
    },
    {
      "cell_type": "code",
      "source": [
        "plt.plot(history.history['loss'])\n",
        "plt.title('model loss')\n",
        "plt.ylabel('loss')\n",
        "plt.xlabel('epoch')\n",
        "plt.show()"
      ],
      "metadata": {
        "colab": {
          "base_uri": "https://localhost:8080/",
          "height": 472
        },
        "id": "76pS6NaAt1RK",
        "outputId": "32fccb3b-8af5-4d98-bfc8-9d9902c2b9a2"
      },
      "execution_count": 100,
      "outputs": [
        {
          "output_type": "display_data",
          "data": {
            "text/plain": [
              "<Figure size 640x480 with 1 Axes>"
            ],
            "image/png": "[encoded data removed]"
          },
          "metadata": {}
        }
      ]
    },
    {
      "cell_type": "code",
      "source": [],
      "metadata": {
        "id": "dER-OyxEt6ix"
      },
      "execution_count": null,
      "outputs": []
    },
    {
      "cell_type": "markdown",
      "source": [
        "## Using CNN"
      ],
      "metadata": {
        "id": "Q7L24C2GuPnJ"
      }
    },
    {
      "cell_type": "code",
      "source": [
        "x_train = x_train.reshape(x_train.shape[0],x_train.shape[1],1)\n",
        "x_test = x_test.reshape(x_test.shape[0],x_test.shape[1],1)"
      ],
      "metadata": {
        "id": "ic1_V0zF9TKM"
      },
      "execution_count": 105,
      "outputs": []
    },
    {
      "cell_type": "code",
      "source": [
        "model = Sequential()\n",
        "model.add(layers.Conv1D(64,2,activation='relu',input_shape = x_train[0].shape))\n",
        "model.add(layers.BatchNormalization())\n",
        "model.add(layers.Dropout(0.2))\n",
        "model.add(layers.Flatten())\n",
        "model.add(layers.Dense(126,activation='relu'))\n",
        "model.add(layers.Dense(1,activation='sigmoid'))"
      ],
      "metadata": {
        "id": "RUyedAAPuR2o"
      },
      "execution_count": 107,
      "outputs": []
    },
    {
      "cell_type": "code",
      "source": [
        "model.summary()"
      ],
      "metadata": {
        "colab": {
          "base_uri": "https://localhost:8080/"
        },
        "id": "3EgIaQMx89XL",
        "outputId": "f8db32eb-d05a-4041-de2c-f5dae1456849"
      },
      "execution_count": 108,
      "outputs": [
        {
          "output_type": "stream",
          "name": "stdout",
          "text": [
            "Model: \"sequential_6\"\n",
            "_________________________________________________________________\n",
            " Layer (type)                Output Shape              Param #   \n",
            "=================================================================\n",
            " conv1d_3 (Conv1D)           (None, 299, 64)           192       \n",
            "                                                                 \n",
            " batch_normalization (BatchN  (None, 299, 64)          256       \n",
            " ormalization)                                                   \n",
            "                                                                 \n",
            " dropout (Dropout)           (None, 299, 64)           0         \n",
            "                                                                 \n",
            " flatten (Flatten)           (None, 19136)             0         \n",
            "                                                                 \n",
            " dense_9 (Dense)             (None, 126)               2411262   \n",
            "                                                                 \n",
            " dense_10 (Dense)            (None, 1)                 127       \n",
            "                                                                 \n",
            "=================================================================\n",
            "Total params: 2,411,837\n",
            "Trainable params: 2,411,709\n",
            "Non-trainable params: 128\n",
            "_________________________________________________________________\n"
          ]
        }
      ]
    },
    {
      "cell_type": "code",
      "source": [
        "model.compile(optimizer = 'adam',loss = 'binary_crossentropy',metrics=['accuracy'])"
      ],
      "metadata": {
        "id": "gzg_0Cbq9G0z"
      },
      "execution_count": 109,
      "outputs": []
    },
    {
      "cell_type": "code",
      "source": [
        "history = model.fit(x_train,y_train,validation_data=(x_test,y_test),batch_size = 64, epochs=10 )"
      ],
      "metadata": {
        "colab": {
          "base_uri": "https://localhost:8080/"
        },
        "id": "G7HJrqvo-Y9F",
        "outputId": "8b9dbf69-3c3a-40ce-c814-c145f405b826"
      },
      "execution_count": 110,
      "outputs": [
        {
          "output_type": "stream",
          "name": "stdout",
          "text": [
            "Epoch 1/10\n",
            "10/10 [==============================] - 3s 119ms/step - loss: 2.6823 - accuracy: 0.5635 - val_loss: 0.6219 - val_accuracy: 0.6133\n",
            "Epoch 2/10\n",
            "10/10 [==============================] - 1s 92ms/step - loss: 0.7852 - accuracy: 0.7174 - val_loss: 0.5558 - val_accuracy: 0.7867\n",
            "Epoch 3/10\n",
            "10/10 [==============================] - 1s 87ms/step - loss: 0.4455 - accuracy: 0.7876 - val_loss: 0.5876 - val_accuracy: 0.7400\n",
            "Epoch 4/10\n",
            "10/10 [==============================] - 1s 136ms/step - loss: 0.3309 - accuracy: 0.8629 - val_loss: 0.5742 - val_accuracy: 0.7533\n",
            "Epoch 5/10\n",
            "10/10 [==============================] - 2s 156ms/step - loss: 0.2785 - accuracy: 0.9013 - val_loss: 0.5958 - val_accuracy: 0.7467\n",
            "Epoch 6/10\n",
            "10/10 [==============================] - 1s 92ms/step - loss: 0.2471 - accuracy: 0.9197 - val_loss: 0.5492 - val_accuracy: 0.7867\n",
            "Epoch 7/10\n",
            "10/10 [==============================] - 1s 86ms/step - loss: 0.2129 - accuracy: 0.9298 - val_loss: 0.5328 - val_accuracy: 0.7867\n",
            "Epoch 8/10\n",
            "10/10 [==============================] - 1s 89ms/step - loss: 0.1864 - accuracy: 0.9381 - val_loss: 0.5385 - val_accuracy: 0.7667\n",
            "Epoch 9/10\n",
            "10/10 [==============================] - 1s 89ms/step - loss: 0.1649 - accuracy: 0.9431 - val_loss: 0.5114 - val_accuracy: 0.7933\n",
            "Epoch 10/10\n",
            "10/10 [==============================] - 1s 90ms/step - loss: 0.1409 - accuracy: 0.9599 - val_loss: 0.4965 - val_accuracy: 0.7867\n"
          ]
        }
      ]
    },
    {
      "cell_type": "code",
      "source": [
        "plt.plot(history.history['accuracy'])\n",
        "plt.plot(history.history['val_accuracy'])\n",
        "plt.title('model accuracy')\n",
        "plt.ylabel('accuracy')\n",
        "plt.xlabel('epoch')\n",
        "plt.show()"
      ],
      "metadata": {
        "colab": {
          "base_uri": "https://localhost:8080/",
          "height": 472
        },
        "id": "uayEQcy1-zPT",
        "outputId": "1f8fdfe5-8639-457c-fda8-6a59b0ec2976"
      },
      "execution_count": 111,
      "outputs": [
        {
          "output_type": "display_data",
          "data": {
            "text/plain": [
              "<Figure size 640x480 with 1 Axes>"
            ],
            "image/png": "[encoded data removed]"
          },
          "metadata": {}
        }
      ]
    },
    {
      "cell_type": "code",
      "source": [],
      "metadata": {
        "id": "hLlfwsK--_N7"
      },
      "execution_count": null,
      "outputs": []
    }
  ]
}